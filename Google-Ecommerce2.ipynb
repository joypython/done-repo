{
 "cells": [
  {
   "cell_type": "code",
   "execution_count": 1,
   "metadata": {},
   "outputs": [],
   "source": [
    "import pandas as pd\n",
    "import numpy as np\n",
    "import matplotlib.pyplot as plt\n",
    "import seaborn as sns"
   ]
  },
  {
   "cell_type": "code",
   "execution_count": 2,
   "metadata": {},
   "outputs": [],
   "source": [
    "col_names = ['Default_Channel_Grouping','Country','Users','New_Users','Sessions','Bounce_Rate','Pages_Session','Avg_Session_Duration','Ecommerce_Conversion_Rate','Transactions','Revenue']"
   ]
  },
  {
   "cell_type": "code",
   "execution_count": 3,
   "metadata": {},
   "outputs": [],
   "source": [
    "df = pd.read_csv('Google-ecomerce-demo.csv', skiprows= 7, header = None, names = col_names, skipfooter= 393, engine='python')"
   ]
  },
  {
   "cell_type": "code",
   "execution_count": 4,
   "metadata": {},
   "outputs": [
    {
     "data": {
      "text/html": [
       "<div>\n",
       "<style scoped>\n",
       "    .dataframe tbody tr th:only-of-type {\n",
       "        vertical-align: middle;\n",
       "    }\n",
       "\n",
       "    .dataframe tbody tr th {\n",
       "        vertical-align: top;\n",
       "    }\n",
       "\n",
       "    .dataframe thead th {\n",
       "        text-align: right;\n",
       "    }\n",
       "</style>\n",
       "<table border=\"1\" class=\"dataframe\">\n",
       "  <thead>\n",
       "    <tr style=\"text-align: right;\">\n",
       "      <th></th>\n",
       "      <th>Default_Channel_Grouping</th>\n",
       "      <th>Country</th>\n",
       "      <th>Users</th>\n",
       "      <th>New_Users</th>\n",
       "      <th>Sessions</th>\n",
       "      <th>Bounce_Rate</th>\n",
       "      <th>Pages_Session</th>\n",
       "      <th>Avg_Session_Duration</th>\n",
       "      <th>Ecommerce_Conversion_Rate</th>\n",
       "      <th>Transactions</th>\n",
       "      <th>Revenue</th>\n",
       "    </tr>\n",
       "  </thead>\n",
       "  <tbody>\n",
       "    <tr>\n",
       "      <th>0</th>\n",
       "      <td>Direct</td>\n",
       "      <td>United States</td>\n",
       "      <td>137,753</td>\n",
       "      <td>137,192</td>\n",
       "      <td>192,085</td>\n",
       "      <td>35.44%</td>\n",
       "      <td>6.66</td>\n",
       "      <td>00:04:00</td>\n",
       "      <td>1.57%</td>\n",
       "      <td>3,008</td>\n",
       "      <td>$196,785.08</td>\n",
       "    </tr>\n",
       "    <tr>\n",
       "      <th>1</th>\n",
       "      <td>Organic Search</td>\n",
       "      <td>United States</td>\n",
       "      <td>56,016</td>\n",
       "      <td>51,214</td>\n",
       "      <td>78,293</td>\n",
       "      <td>36.47%</td>\n",
       "      <td>5.76</td>\n",
       "      <td>00:03:29</td>\n",
       "      <td>0.50%</td>\n",
       "      <td>392</td>\n",
       "      <td>$21,183.66</td>\n",
       "    </tr>\n",
       "    <tr>\n",
       "      <th>2</th>\n",
       "      <td>Direct</td>\n",
       "      <td>India</td>\n",
       "      <td>29,323</td>\n",
       "      <td>28,830</td>\n",
       "      <td>33,119</td>\n",
       "      <td>55.50%</td>\n",
       "      <td>3.30</td>\n",
       "      <td>00:01:47</td>\n",
       "      <td>&lt;0.01%</td>\n",
       "      <td>3</td>\n",
       "      <td>$430.40</td>\n",
       "    </tr>\n",
       "    <tr>\n",
       "      <th>3</th>\n",
       "      <td>Referral</td>\n",
       "      <td>United States</td>\n",
       "      <td>22,026</td>\n",
       "      <td>17,894</td>\n",
       "      <td>47,873</td>\n",
       "      <td>21.73%</td>\n",
       "      <td>9.19</td>\n",
       "      <td>00:05:56</td>\n",
       "      <td>0.13%</td>\n",
       "      <td>61</td>\n",
       "      <td>$3,008.95</td>\n",
       "    </tr>\n",
       "    <tr>\n",
       "      <th>4</th>\n",
       "      <td>Display</td>\n",
       "      <td>United States</td>\n",
       "      <td>17,963</td>\n",
       "      <td>17,342</td>\n",
       "      <td>22,339</td>\n",
       "      <td>75.95%</td>\n",
       "      <td>2.80</td>\n",
       "      <td>00:00:55</td>\n",
       "      <td>&lt;0.01%</td>\n",
       "      <td>2</td>\n",
       "      <td>$234.68</td>\n",
       "    </tr>\n",
       "  </tbody>\n",
       "</table>\n",
       "</div>"
      ],
      "text/plain": [
       "  Default_Channel_Grouping        Country    Users New_Users Sessions  \\\n",
       "0                   Direct  United States  137,753   137,192  192,085   \n",
       "1           Organic Search  United States   56,016    51,214   78,293   \n",
       "2                   Direct          India   29,323    28,830   33,119   \n",
       "3                 Referral  United States   22,026    17,894   47,873   \n",
       "4                  Display  United States   17,963    17,342   22,339   \n",
       "\n",
       "  Bounce_Rate  Pages_Session Avg_Session_Duration Ecommerce_Conversion_Rate  \\\n",
       "0      35.44%           6.66             00:04:00                     1.57%   \n",
       "1      36.47%           5.76             00:03:29                     0.50%   \n",
       "2      55.50%           3.30             00:01:47                    <0.01%   \n",
       "3      21.73%           9.19             00:05:56                     0.13%   \n",
       "4      75.95%           2.80             00:00:55                    <0.01%   \n",
       "\n",
       "  Transactions      Revenue  \n",
       "0        3,008  $196,785.08  \n",
       "1          392   $21,183.66  \n",
       "2            3      $430.40  \n",
       "3           61    $3,008.95  \n",
       "4            2      $234.68  "
      ]
     },
     "execution_count": 4,
     "metadata": {},
     "output_type": "execute_result"
    }
   ],
   "source": [
    "df.head()"
   ]
  },
  {
   "cell_type": "code",
   "execution_count": 5,
   "metadata": {},
   "outputs": [
    {
     "data": {
      "text/html": [
       "<div>\n",
       "<style scoped>\n",
       "    .dataframe tbody tr th:only-of-type {\n",
       "        vertical-align: middle;\n",
       "    }\n",
       "\n",
       "    .dataframe tbody tr th {\n",
       "        vertical-align: top;\n",
       "    }\n",
       "\n",
       "    .dataframe thead th {\n",
       "        text-align: right;\n",
       "    }\n",
       "</style>\n",
       "<table border=\"1\" class=\"dataframe\">\n",
       "  <thead>\n",
       "    <tr style=\"text-align: right;\">\n",
       "      <th></th>\n",
       "      <th>Default_Channel_Grouping</th>\n",
       "      <th>Country</th>\n",
       "      <th>Users</th>\n",
       "      <th>New_Users</th>\n",
       "      <th>Sessions</th>\n",
       "      <th>Bounce_Rate</th>\n",
       "      <th>Pages_Session</th>\n",
       "      <th>Avg_Session_Duration</th>\n",
       "      <th>Ecommerce_Conversion_Rate</th>\n",
       "      <th>Transactions</th>\n",
       "      <th>Revenue</th>\n",
       "    </tr>\n",
       "  </thead>\n",
       "  <tbody>\n",
       "    <tr>\n",
       "      <th>95</th>\n",
       "      <td>Organic Search</td>\n",
       "      <td>Denmark</td>\n",
       "      <td>809</td>\n",
       "      <td>761</td>\n",
       "      <td>912</td>\n",
       "      <td>68.42%</td>\n",
       "      <td>2.39</td>\n",
       "      <td>00:01:13</td>\n",
       "      <td>0.00%</td>\n",
       "      <td>0</td>\n",
       "      <td>$0.00</td>\n",
       "    </tr>\n",
       "    <tr>\n",
       "      <th>96</th>\n",
       "      <td>Direct</td>\n",
       "      <td>Greece</td>\n",
       "      <td>807</td>\n",
       "      <td>787</td>\n",
       "      <td>957</td>\n",
       "      <td>62.80%</td>\n",
       "      <td>2.59</td>\n",
       "      <td>00:01:44</td>\n",
       "      <td>0.00%</td>\n",
       "      <td>0</td>\n",
       "      <td>$0.00</td>\n",
       "    </tr>\n",
       "    <tr>\n",
       "      <th>97</th>\n",
       "      <td>Direct</td>\n",
       "      <td>Chile</td>\n",
       "      <td>806</td>\n",
       "      <td>798</td>\n",
       "      <td>1,021</td>\n",
       "      <td>53.28%</td>\n",
       "      <td>3.51</td>\n",
       "      <td>00:02:22</td>\n",
       "      <td>0.00%</td>\n",
       "      <td>0</td>\n",
       "      <td>$0.00</td>\n",
       "    </tr>\n",
       "    <tr>\n",
       "      <th>98</th>\n",
       "      <td>(Other)</td>\n",
       "      <td>Canada</td>\n",
       "      <td>798</td>\n",
       "      <td>570</td>\n",
       "      <td>1,189</td>\n",
       "      <td>36.33%</td>\n",
       "      <td>5.34</td>\n",
       "      <td>00:04:00</td>\n",
       "      <td>0.17%</td>\n",
       "      <td>2</td>\n",
       "      <td>$236.40</td>\n",
       "    </tr>\n",
       "    <tr>\n",
       "      <th>99</th>\n",
       "      <td>Paid Search</td>\n",
       "      <td>India</td>\n",
       "      <td>798</td>\n",
       "      <td>719</td>\n",
       "      <td>885</td>\n",
       "      <td>80.90%</td>\n",
       "      <td>1.57</td>\n",
       "      <td>00:00:33</td>\n",
       "      <td>0.00%</td>\n",
       "      <td>0</td>\n",
       "      <td>$0.00</td>\n",
       "    </tr>\n",
       "  </tbody>\n",
       "</table>\n",
       "</div>"
      ],
      "text/plain": [
       "   Default_Channel_Grouping  Country Users New_Users Sessions Bounce_Rate  \\\n",
       "95           Organic Search  Denmark   809       761      912      68.42%   \n",
       "96                   Direct   Greece   807       787      957      62.80%   \n",
       "97                   Direct    Chile   806       798    1,021      53.28%   \n",
       "98                  (Other)   Canada   798       570    1,189      36.33%   \n",
       "99              Paid Search    India   798       719      885      80.90%   \n",
       "\n",
       "    Pages_Session Avg_Session_Duration Ecommerce_Conversion_Rate Transactions  \\\n",
       "95           2.39             00:01:13                     0.00%            0   \n",
       "96           2.59             00:01:44                     0.00%            0   \n",
       "97           3.51             00:02:22                     0.00%            0   \n",
       "98           5.34             00:04:00                     0.17%            2   \n",
       "99           1.57             00:00:33                     0.00%            0   \n",
       "\n",
       "    Revenue  \n",
       "95    $0.00  \n",
       "96    $0.00  \n",
       "97    $0.00  \n",
       "98  $236.40  \n",
       "99    $0.00  "
      ]
     },
     "execution_count": 5,
     "metadata": {},
     "output_type": "execute_result"
    }
   ],
   "source": [
    "df.tail()"
   ]
  },
  {
   "cell_type": "code",
   "execution_count": 6,
   "metadata": {},
   "outputs": [
    {
     "data": {
      "text/plain": [
       "(100, 11)"
      ]
     },
     "execution_count": 6,
     "metadata": {},
     "output_type": "execute_result"
    }
   ],
   "source": [
    "df.shape"
   ]
  },
  {
   "cell_type": "code",
   "execution_count": 7,
   "metadata": {},
   "outputs": [
    {
     "name": "stdout",
     "output_type": "stream",
     "text": [
      "<class 'pandas.core.frame.DataFrame'>\n",
      "RangeIndex: 100 entries, 0 to 99\n",
      "Data columns (total 11 columns):\n",
      " #   Column                     Non-Null Count  Dtype  \n",
      "---  ------                     --------------  -----  \n",
      " 0   Default_Channel_Grouping   100 non-null    object \n",
      " 1   Country                    100 non-null    object \n",
      " 2   Users                      100 non-null    object \n",
      " 3   New_Users                  100 non-null    object \n",
      " 4   Sessions                   100 non-null    object \n",
      " 5   Bounce_Rate                100 non-null    object \n",
      " 6   Pages_Session              100 non-null    float64\n",
      " 7   Avg_Session_Duration       100 non-null    object \n",
      " 8   Ecommerce_Conversion_Rate  100 non-null    object \n",
      " 9   Transactions               100 non-null    object \n",
      " 10  Revenue                    100 non-null    object \n",
      "dtypes: float64(1), object(10)\n",
      "memory usage: 8.7+ KB\n"
     ]
    }
   ],
   "source": [
    "df.info()"
   ]
  },
  {
   "cell_type": "code",
   "execution_count": 8,
   "metadata": {},
   "outputs": [
    {
     "data": {
      "text/plain": [
       "Default_Channel_Grouping      object\n",
       "Country                       object\n",
       "Users                         object\n",
       "New_Users                     object\n",
       "Sessions                      object\n",
       "Bounce_Rate                   object\n",
       "Pages_Session                float64\n",
       "Avg_Session_Duration          object\n",
       "Ecommerce_Conversion_Rate     object\n",
       "Transactions                  object\n",
       "Revenue                       object\n",
       "dtype: object"
      ]
     },
     "execution_count": 8,
     "metadata": {},
     "output_type": "execute_result"
    }
   ],
   "source": [
    "#Checking the data types\n",
    "\n",
    "df.dtypes"
   ]
  },
  {
   "cell_type": "code",
   "execution_count": 9,
   "metadata": {},
   "outputs": [
    {
     "data": {
      "text/plain": [
       "Default_Channel_Grouping     0\n",
       "Country                      0\n",
       "Users                        0\n",
       "New_Users                    0\n",
       "Sessions                     0\n",
       "Bounce_Rate                  0\n",
       "Pages_Session                0\n",
       "Avg_Session_Duration         0\n",
       "Ecommerce_Conversion_Rate    0\n",
       "Transactions                 0\n",
       "Revenue                      0\n",
       "dtype: int64"
      ]
     },
     "execution_count": 9,
     "metadata": {},
     "output_type": "execute_result"
    }
   ],
   "source": [
    "# Checking for any missing data\n",
    "\n",
    "df.isnull().sum()"
   ]
  },
  {
   "cell_type": "code",
   "execution_count": 10,
   "metadata": {},
   "outputs": [
    {
     "data": {
      "text/plain": [
       "Index(['Default_Channel_Grouping', 'Country', 'Users', 'New_Users', 'Sessions',\n",
       "       'Bounce_Rate', 'Pages_Session', 'Avg_Session_Duration',\n",
       "       'Ecommerce_Conversion_Rate', 'Transactions', 'Revenue'],\n",
       "      dtype='object')"
      ]
     },
     "execution_count": 10,
     "metadata": {},
     "output_type": "execute_result"
    }
   ],
   "source": [
    "df.columns"
   ]
  },
  {
   "cell_type": "markdown",
   "metadata": {},
   "source": [
    "Because the dataset contains some special characters, so we will do a little bit of clean up."
   ]
  },
  {
   "cell_type": "code",
   "execution_count": 11,
   "metadata": {},
   "outputs": [],
   "source": [
    "# Removing special characters from the dataset\n",
    "\n",
    "df['Bounce_Rate'] = df['Bounce_Rate'].apply(lambda x: x.replace(\"%\",\"\"))\n",
    "df['Ecommerce_Conversion_Rate'] = df['Ecommerce_Conversion_Rate'].apply(lambda x: x.replace(\"%\",\"\").replace(\"<\",\"\"))\n",
    "df['Transactions'] = df['Transactions'].apply(lambda x: x.replace(\",\",\"\"))\n",
    "df['Revenue'] = df['Revenue'].apply(lambda x: x.replace(\"$\",\"\").replace(\",\",\"\"))\n",
    "df['Users'] = df['Users'].apply(lambda x: x.replace(\",\",\"\"))\n",
    "df['New_Users'] = df['New_Users'].apply(lambda x: x.replace(\",\",\"\"))\n",
    "df['Sessions'] = df['Sessions'].apply(lambda x: x.replace(\",\",\"\"))"
   ]
  },
  {
   "cell_type": "code",
   "execution_count": 12,
   "metadata": {},
   "outputs": [
    {
     "data": {
      "text/html": [
       "<div>\n",
       "<style scoped>\n",
       "    .dataframe tbody tr th:only-of-type {\n",
       "        vertical-align: middle;\n",
       "    }\n",
       "\n",
       "    .dataframe tbody tr th {\n",
       "        vertical-align: top;\n",
       "    }\n",
       "\n",
       "    .dataframe thead th {\n",
       "        text-align: right;\n",
       "    }\n",
       "</style>\n",
       "<table border=\"1\" class=\"dataframe\">\n",
       "  <thead>\n",
       "    <tr style=\"text-align: right;\">\n",
       "      <th></th>\n",
       "      <th>Default_Channel_Grouping</th>\n",
       "      <th>Country</th>\n",
       "      <th>Users</th>\n",
       "      <th>New_Users</th>\n",
       "      <th>Sessions</th>\n",
       "      <th>Bounce_Rate</th>\n",
       "      <th>Pages_Session</th>\n",
       "      <th>Avg_Session_Duration</th>\n",
       "      <th>Ecommerce_Conversion_Rate</th>\n",
       "      <th>Transactions</th>\n",
       "      <th>Revenue</th>\n",
       "    </tr>\n",
       "  </thead>\n",
       "  <tbody>\n",
       "    <tr>\n",
       "      <th>0</th>\n",
       "      <td>Direct</td>\n",
       "      <td>United States</td>\n",
       "      <td>137753</td>\n",
       "      <td>137192</td>\n",
       "      <td>192085</td>\n",
       "      <td>35.44</td>\n",
       "      <td>6.66</td>\n",
       "      <td>00:04:00</td>\n",
       "      <td>1.57</td>\n",
       "      <td>3008</td>\n",
       "      <td>196785.08</td>\n",
       "    </tr>\n",
       "    <tr>\n",
       "      <th>1</th>\n",
       "      <td>Organic Search</td>\n",
       "      <td>United States</td>\n",
       "      <td>56016</td>\n",
       "      <td>51214</td>\n",
       "      <td>78293</td>\n",
       "      <td>36.47</td>\n",
       "      <td>5.76</td>\n",
       "      <td>00:03:29</td>\n",
       "      <td>0.50</td>\n",
       "      <td>392</td>\n",
       "      <td>21183.66</td>\n",
       "    </tr>\n",
       "  </tbody>\n",
       "</table>\n",
       "</div>"
      ],
      "text/plain": [
       "  Default_Channel_Grouping        Country   Users New_Users Sessions  \\\n",
       "0                   Direct  United States  137753    137192   192085   \n",
       "1           Organic Search  United States   56016     51214    78293   \n",
       "\n",
       "  Bounce_Rate  Pages_Session Avg_Session_Duration Ecommerce_Conversion_Rate  \\\n",
       "0       35.44           6.66             00:04:00                      1.57   \n",
       "1       36.47           5.76             00:03:29                      0.50   \n",
       "\n",
       "  Transactions    Revenue  \n",
       "0         3008  196785.08  \n",
       "1          392   21183.66  "
      ]
     },
     "execution_count": 12,
     "metadata": {},
     "output_type": "execute_result"
    }
   ],
   "source": [
    "df.head(2)"
   ]
  },
  {
   "cell_type": "code",
   "execution_count": 13,
   "metadata": {},
   "outputs": [],
   "source": [
    "# Creating extra column to extracting the minuites from the Avg_Session_Duration column\n",
    "\n",
    "df['Minutes'] = df['Avg_Session_Duration'].str.split(':').str[1]"
   ]
  },
  {
   "cell_type": "code",
   "execution_count": 14,
   "metadata": {},
   "outputs": [],
   "source": [
    "#  Creating extra column to extracting the seconds from the Avg_Session_Duration column\n",
    "\n",
    "df['Seconds'] = df['Avg_Session_Duration'].str.split(':').str[2]"
   ]
  },
  {
   "cell_type": "code",
   "execution_count": 15,
   "metadata": {},
   "outputs": [
    {
     "data": {
      "text/html": [
       "<div>\n",
       "<style scoped>\n",
       "    .dataframe tbody tr th:only-of-type {\n",
       "        vertical-align: middle;\n",
       "    }\n",
       "\n",
       "    .dataframe tbody tr th {\n",
       "        vertical-align: top;\n",
       "    }\n",
       "\n",
       "    .dataframe thead th {\n",
       "        text-align: right;\n",
       "    }\n",
       "</style>\n",
       "<table border=\"1\" class=\"dataframe\">\n",
       "  <thead>\n",
       "    <tr style=\"text-align: right;\">\n",
       "      <th></th>\n",
       "      <th>Default_Channel_Grouping</th>\n",
       "      <th>Country</th>\n",
       "      <th>Users</th>\n",
       "      <th>New_Users</th>\n",
       "      <th>Sessions</th>\n",
       "      <th>Bounce_Rate</th>\n",
       "      <th>Pages_Session</th>\n",
       "      <th>Avg_Session_Duration</th>\n",
       "      <th>Ecommerce_Conversion_Rate</th>\n",
       "      <th>Transactions</th>\n",
       "      <th>Revenue</th>\n",
       "      <th>Minutes</th>\n",
       "      <th>Seconds</th>\n",
       "    </tr>\n",
       "  </thead>\n",
       "  <tbody>\n",
       "    <tr>\n",
       "      <th>0</th>\n",
       "      <td>Direct</td>\n",
       "      <td>United States</td>\n",
       "      <td>137753</td>\n",
       "      <td>137192</td>\n",
       "      <td>192085</td>\n",
       "      <td>35.44</td>\n",
       "      <td>6.66</td>\n",
       "      <td>00:04:00</td>\n",
       "      <td>1.57</td>\n",
       "      <td>3008</td>\n",
       "      <td>196785.08</td>\n",
       "      <td>04</td>\n",
       "      <td>00</td>\n",
       "    </tr>\n",
       "    <tr>\n",
       "      <th>1</th>\n",
       "      <td>Organic Search</td>\n",
       "      <td>United States</td>\n",
       "      <td>56016</td>\n",
       "      <td>51214</td>\n",
       "      <td>78293</td>\n",
       "      <td>36.47</td>\n",
       "      <td>5.76</td>\n",
       "      <td>00:03:29</td>\n",
       "      <td>0.50</td>\n",
       "      <td>392</td>\n",
       "      <td>21183.66</td>\n",
       "      <td>03</td>\n",
       "      <td>29</td>\n",
       "    </tr>\n",
       "  </tbody>\n",
       "</table>\n",
       "</div>"
      ],
      "text/plain": [
       "  Default_Channel_Grouping        Country   Users New_Users Sessions  \\\n",
       "0                   Direct  United States  137753    137192   192085   \n",
       "1           Organic Search  United States   56016     51214    78293   \n",
       "\n",
       "  Bounce_Rate  Pages_Session Avg_Session_Duration Ecommerce_Conversion_Rate  \\\n",
       "0       35.44           6.66             00:04:00                      1.57   \n",
       "1       36.47           5.76             00:03:29                      0.50   \n",
       "\n",
       "  Transactions    Revenue Minutes Seconds  \n",
       "0         3008  196785.08      04      00  \n",
       "1          392   21183.66      03      29  "
      ]
     },
     "execution_count": 15,
     "metadata": {},
     "output_type": "execute_result"
    }
   ],
   "source": [
    "df.head(2)"
   ]
  },
  {
   "cell_type": "code",
   "execution_count": 16,
   "metadata": {},
   "outputs": [
    {
     "data": {
      "text/html": [
       "<div>\n",
       "<style scoped>\n",
       "    .dataframe tbody tr th:only-of-type {\n",
       "        vertical-align: middle;\n",
       "    }\n",
       "\n",
       "    .dataframe tbody tr th {\n",
       "        vertical-align: top;\n",
       "    }\n",
       "\n",
       "    .dataframe thead th {\n",
       "        text-align: right;\n",
       "    }\n",
       "</style>\n",
       "<table border=\"1\" class=\"dataframe\">\n",
       "  <thead>\n",
       "    <tr style=\"text-align: right;\">\n",
       "      <th></th>\n",
       "      <th>Pages_Session</th>\n",
       "    </tr>\n",
       "  </thead>\n",
       "  <tbody>\n",
       "    <tr>\n",
       "      <th>count</th>\n",
       "      <td>100.000000</td>\n",
       "    </tr>\n",
       "    <tr>\n",
       "      <th>mean</th>\n",
       "      <td>3.500900</td>\n",
       "    </tr>\n",
       "    <tr>\n",
       "      <th>std</th>\n",
       "      <td>1.186852</td>\n",
       "    </tr>\n",
       "    <tr>\n",
       "      <th>min</th>\n",
       "      <td>1.550000</td>\n",
       "    </tr>\n",
       "    <tr>\n",
       "      <th>25%</th>\n",
       "      <td>2.920000</td>\n",
       "    </tr>\n",
       "    <tr>\n",
       "      <th>50%</th>\n",
       "      <td>3.205000</td>\n",
       "    </tr>\n",
       "    <tr>\n",
       "      <th>75%</th>\n",
       "      <td>3.767500</td>\n",
       "    </tr>\n",
       "    <tr>\n",
       "      <th>max</th>\n",
       "      <td>9.190000</td>\n",
       "    </tr>\n",
       "  </tbody>\n",
       "</table>\n",
       "</div>"
      ],
      "text/plain": [
       "       Pages_Session\n",
       "count     100.000000\n",
       "mean        3.500900\n",
       "std         1.186852\n",
       "min         1.550000\n",
       "25%         2.920000\n",
       "50%         3.205000\n",
       "75%         3.767500\n",
       "max         9.190000"
      ]
     },
     "execution_count": 16,
     "metadata": {},
     "output_type": "execute_result"
    }
   ],
   "source": [
    "df.describe()"
   ]
  },
  {
   "cell_type": "markdown",
   "metadata": {},
   "source": [
    "We need to converts other columns with numerical values into int or float data types."
   ]
  },
  {
   "cell_type": "code",
   "execution_count": 17,
   "metadata": {},
   "outputs": [],
   "source": [
    "# Typecasting some columns\n",
    "\n",
    "df['Users'] = pd.to_numeric(df['Users'])\n",
    "df['New_Users'] = pd.to_numeric(df['New_Users'])\n",
    "df['Sessions'] = pd.to_numeric(df['Sessions'])\n",
    "df['Bounce_Rate'] = pd.to_numeric(df['Bounce_Rate'])\n",
    "df['Ecommerce_Conversion_Rate'] = pd.to_numeric(df['Ecommerce_Conversion_Rate'])\n",
    "df['Transactions'] = df['Transactions'].astype(int)\n",
    "df['Revenue'] = pd.to_numeric(df['Revenue'])\n",
    "df['Minutes'] = pd.to_numeric(df['Minutes'])\n",
    "df['Seconds'] = pd.to_numeric(df['Seconds'])"
   ]
  },
  {
   "cell_type": "code",
   "execution_count": 18,
   "metadata": {},
   "outputs": [
    {
     "data": {
      "text/plain": [
       "Default_Channel_Grouping      object\n",
       "Country                       object\n",
       "Users                          int64\n",
       "New_Users                      int64\n",
       "Sessions                       int64\n",
       "Bounce_Rate                  float64\n",
       "Pages_Session                float64\n",
       "Avg_Session_Duration          object\n",
       "Ecommerce_Conversion_Rate    float64\n",
       "Transactions                   int32\n",
       "Revenue                      float64\n",
       "Minutes                        int64\n",
       "Seconds                        int64\n",
       "dtype: object"
      ]
     },
     "execution_count": 18,
     "metadata": {},
     "output_type": "execute_result"
    }
   ],
   "source": [
    "df.dtypes"
   ]
  },
  {
   "cell_type": "code",
   "execution_count": 19,
   "metadata": {},
   "outputs": [
    {
     "data": {
      "text/html": [
       "<div>\n",
       "<style scoped>\n",
       "    .dataframe tbody tr th:only-of-type {\n",
       "        vertical-align: middle;\n",
       "    }\n",
       "\n",
       "    .dataframe tbody tr th {\n",
       "        vertical-align: top;\n",
       "    }\n",
       "\n",
       "    .dataframe thead th {\n",
       "        text-align: right;\n",
       "    }\n",
       "</style>\n",
       "<table border=\"1\" class=\"dataframe\">\n",
       "  <thead>\n",
       "    <tr style=\"text-align: right;\">\n",
       "      <th></th>\n",
       "      <th>count</th>\n",
       "      <th>mean</th>\n",
       "      <th>std</th>\n",
       "      <th>min</th>\n",
       "      <th>25%</th>\n",
       "      <th>50%</th>\n",
       "      <th>75%</th>\n",
       "      <th>max</th>\n",
       "    </tr>\n",
       "  </thead>\n",
       "  <tbody>\n",
       "    <tr>\n",
       "      <th>Users</th>\n",
       "      <td>100.0</td>\n",
       "      <td>5562.5700</td>\n",
       "      <td>15073.628818</td>\n",
       "      <td>798.00</td>\n",
       "      <td>1332.500</td>\n",
       "      <td>2102.000</td>\n",
       "      <td>3941.5000</td>\n",
       "      <td>137753.00</td>\n",
       "    </tr>\n",
       "    <tr>\n",
       "      <th>New_Users</th>\n",
       "      <td>100.0</td>\n",
       "      <td>5302.3600</td>\n",
       "      <td>14808.946546</td>\n",
       "      <td>570.00</td>\n",
       "      <td>1182.500</td>\n",
       "      <td>1902.000</td>\n",
       "      <td>3808.0000</td>\n",
       "      <td>137192.00</td>\n",
       "    </tr>\n",
       "    <tr>\n",
       "      <th>Sessions</th>\n",
       "      <td>100.0</td>\n",
       "      <td>7469.5000</td>\n",
       "      <td>21160.683401</td>\n",
       "      <td>885.00</td>\n",
       "      <td>1574.250</td>\n",
       "      <td>2666.000</td>\n",
       "      <td>5173.0000</td>\n",
       "      <td>192085.00</td>\n",
       "    </tr>\n",
       "    <tr>\n",
       "      <th>Bounce_Rate</th>\n",
       "      <td>100.0</td>\n",
       "      <td>55.6491</td>\n",
       "      <td>10.294072</td>\n",
       "      <td>21.73</td>\n",
       "      <td>50.905</td>\n",
       "      <td>56.660</td>\n",
       "      <td>61.5150</td>\n",
       "      <td>84.56</td>\n",
       "    </tr>\n",
       "    <tr>\n",
       "      <th>Pages_Session</th>\n",
       "      <td>100.0</td>\n",
       "      <td>3.5009</td>\n",
       "      <td>1.186852</td>\n",
       "      <td>1.55</td>\n",
       "      <td>2.920</td>\n",
       "      <td>3.205</td>\n",
       "      <td>3.7675</td>\n",
       "      <td>9.19</td>\n",
       "    </tr>\n",
       "    <tr>\n",
       "      <th>Ecommerce_Conversion_Rate</th>\n",
       "      <td>100.0</td>\n",
       "      <td>0.0943</td>\n",
       "      <td>0.310315</td>\n",
       "      <td>0.00</td>\n",
       "      <td>0.000</td>\n",
       "      <td>0.000</td>\n",
       "      <td>0.0500</td>\n",
       "      <td>2.18</td>\n",
       "    </tr>\n",
       "    <tr>\n",
       "      <th>Transactions</th>\n",
       "      <td>100.0</td>\n",
       "      <td>40.5200</td>\n",
       "      <td>303.587056</td>\n",
       "      <td>0.00</td>\n",
       "      <td>0.000</td>\n",
       "      <td>0.000</td>\n",
       "      <td>2.0000</td>\n",
       "      <td>3008.00</td>\n",
       "    </tr>\n",
       "    <tr>\n",
       "      <th>Revenue</th>\n",
       "      <td>100.0</td>\n",
       "      <td>2600.6456</td>\n",
       "      <td>19815.159626</td>\n",
       "      <td>0.00</td>\n",
       "      <td>0.000</td>\n",
       "      <td>0.000</td>\n",
       "      <td>101.0800</td>\n",
       "      <td>196785.08</td>\n",
       "    </tr>\n",
       "    <tr>\n",
       "      <th>Minutes</th>\n",
       "      <td>100.0</td>\n",
       "      <td>1.9900</td>\n",
       "      <td>0.958692</td>\n",
       "      <td>0.00</td>\n",
       "      <td>1.000</td>\n",
       "      <td>2.000</td>\n",
       "      <td>2.0000</td>\n",
       "      <td>5.00</td>\n",
       "    </tr>\n",
       "    <tr>\n",
       "      <th>Seconds</th>\n",
       "      <td>100.0</td>\n",
       "      <td>28.9000</td>\n",
       "      <td>18.186742</td>\n",
       "      <td>0.00</td>\n",
       "      <td>12.750</td>\n",
       "      <td>31.000</td>\n",
       "      <td>44.0000</td>\n",
       "      <td>58.00</td>\n",
       "    </tr>\n",
       "  </tbody>\n",
       "</table>\n",
       "</div>"
      ],
      "text/plain": [
       "                           count       mean           std     min       25%  \\\n",
       "Users                      100.0  5562.5700  15073.628818  798.00  1332.500   \n",
       "New_Users                  100.0  5302.3600  14808.946546  570.00  1182.500   \n",
       "Sessions                   100.0  7469.5000  21160.683401  885.00  1574.250   \n",
       "Bounce_Rate                100.0    55.6491     10.294072   21.73    50.905   \n",
       "Pages_Session              100.0     3.5009      1.186852    1.55     2.920   \n",
       "Ecommerce_Conversion_Rate  100.0     0.0943      0.310315    0.00     0.000   \n",
       "Transactions               100.0    40.5200    303.587056    0.00     0.000   \n",
       "Revenue                    100.0  2600.6456  19815.159626    0.00     0.000   \n",
       "Minutes                    100.0     1.9900      0.958692    0.00     1.000   \n",
       "Seconds                    100.0    28.9000     18.186742    0.00    12.750   \n",
       "\n",
       "                                50%        75%        max  \n",
       "Users                      2102.000  3941.5000  137753.00  \n",
       "New_Users                  1902.000  3808.0000  137192.00  \n",
       "Sessions                   2666.000  5173.0000  192085.00  \n",
       "Bounce_Rate                  56.660    61.5150      84.56  \n",
       "Pages_Session                 3.205     3.7675       9.19  \n",
       "Ecommerce_Conversion_Rate     0.000     0.0500       2.18  \n",
       "Transactions                  0.000     2.0000    3008.00  \n",
       "Revenue                       0.000   101.0800  196785.08  \n",
       "Minutes                       2.000     2.0000       5.00  \n",
       "Seconds                      31.000    44.0000      58.00  "
      ]
     },
     "execution_count": 19,
     "metadata": {},
     "output_type": "execute_result"
    }
   ],
   "source": [
    "# Transpose statistical analysis of the transpose columns\n",
    "\n",
    "df.describe().transpose()"
   ]
  },
  {
   "cell_type": "code",
   "execution_count": 20,
   "metadata": {},
   "outputs": [
    {
     "data": {
      "text/plain": [
       "45"
      ]
     },
     "execution_count": 20,
     "metadata": {},
     "output_type": "execute_result"
    }
   ],
   "source": [
    "#Checking for how many unique countries in the dataset\n",
    "\n",
    "df.Country.nunique()"
   ]
  },
  {
   "cell_type": "code",
   "execution_count": 21,
   "metadata": {},
   "outputs": [
    {
     "data": {
      "text/plain": [
       "array(['United States', 'India', 'Canada', 'United Kingdom', 'France',\n",
       "       'Spain', 'Japan', 'Germany', 'Taiwan', 'South Korea', 'Singapore',\n",
       "       'Italy', 'Brazil', 'Australia', 'Netherlands', 'China', 'Poland',\n",
       "       'Mexico', 'Russia', 'Indonesia', 'Turkey', 'Hong Kong', 'Ireland',\n",
       "       'Colombia', 'Sweden', 'Switzerland', 'Malaysia', 'Philippines',\n",
       "       'Thailand', 'Belgium', 'Peru', 'Vietnam', '(not set)', 'Ukraine',\n",
       "       'Israel', 'Pakistan', 'Portugal', 'Argentina',\n",
       "       'United Arab Emirates', 'Denmark', 'Romania', 'Czechia',\n",
       "       'Saudi Arabia', 'Greece', 'Chile'], dtype=object)"
      ]
     },
     "execution_count": 21,
     "metadata": {},
     "output_type": "execute_result"
    }
   ],
   "source": [
    "df.Country.unique()"
   ]
  },
  {
   "cell_type": "code",
   "execution_count": 22,
   "metadata": {},
   "outputs": [
    {
     "data": {
      "text/html": [
       "<div>\n",
       "<style scoped>\n",
       "    .dataframe tbody tr th:only-of-type {\n",
       "        vertical-align: middle;\n",
       "    }\n",
       "\n",
       "    .dataframe tbody tr th {\n",
       "        vertical-align: top;\n",
       "    }\n",
       "\n",
       "    .dataframe thead th {\n",
       "        text-align: right;\n",
       "    }\n",
       "</style>\n",
       "<table border=\"1\" class=\"dataframe\">\n",
       "  <thead>\n",
       "    <tr style=\"text-align: right;\">\n",
       "      <th></th>\n",
       "      <th>Default_Channel_Grouping</th>\n",
       "      <th>Country</th>\n",
       "      <th>Users</th>\n",
       "      <th>New_Users</th>\n",
       "      <th>Sessions</th>\n",
       "      <th>Bounce_Rate</th>\n",
       "      <th>Pages_Session</th>\n",
       "      <th>Avg_Session_Duration</th>\n",
       "      <th>Ecommerce_Conversion_Rate</th>\n",
       "      <th>Transactions</th>\n",
       "      <th>Revenue</th>\n",
       "      <th>Minutes</th>\n",
       "      <th>Seconds</th>\n",
       "    </tr>\n",
       "  </thead>\n",
       "  <tbody>\n",
       "    <tr>\n",
       "      <th>68</th>\n",
       "      <td>Direct</td>\n",
       "      <td>(not set)</td>\n",
       "      <td>1417</td>\n",
       "      <td>1306</td>\n",
       "      <td>1699</td>\n",
       "      <td>47.85</td>\n",
       "      <td>5.3</td>\n",
       "      <td>00:03:03</td>\n",
       "      <td>2.18</td>\n",
       "      <td>37</td>\n",
       "      <td>1635.04</td>\n",
       "      <td>3</td>\n",
       "      <td>3</td>\n",
       "    </tr>\n",
       "  </tbody>\n",
       "</table>\n",
       "</div>"
      ],
      "text/plain": [
       "   Default_Channel_Grouping    Country  Users  New_Users  Sessions  \\\n",
       "68                   Direct  (not set)   1417       1306      1699   \n",
       "\n",
       "    Bounce_Rate  Pages_Session Avg_Session_Duration  \\\n",
       "68        47.85            5.3             00:03:03   \n",
       "\n",
       "    Ecommerce_Conversion_Rate  Transactions  Revenue  Minutes  Seconds  \n",
       "68                       2.18            37  1635.04        3        3  "
      ]
     },
     "execution_count": 22,
     "metadata": {},
     "output_type": "execute_result"
    }
   ],
   "source": [
    "# Filtering the the row with country value((not set))\n",
    "\n",
    "df[df['Country']=='(not set)']"
   ]
  },
  {
   "cell_type": "code",
   "execution_count": 23,
   "metadata": {},
   "outputs": [],
   "source": [
    "# Droping the row index with country value as (not set)\n",
    "\n",
    "df = df.drop(df.index[68]).reset_index(drop=True)"
   ]
  },
  {
   "cell_type": "code",
   "execution_count": 24,
   "metadata": {
    "scrolled": true
   },
   "outputs": [
    {
     "data": {
      "text/plain": [
       "array(['United States', 'India', 'Canada', 'United Kingdom', 'France',\n",
       "       'Spain', 'Japan', 'Germany', 'Taiwan', 'South Korea', 'Singapore',\n",
       "       'Italy', 'Brazil', 'Australia', 'Netherlands', 'China', 'Poland',\n",
       "       'Mexico', 'Russia', 'Indonesia', 'Turkey', 'Hong Kong', 'Ireland',\n",
       "       'Colombia', 'Sweden', 'Switzerland', 'Malaysia', 'Philippines',\n",
       "       'Thailand', 'Belgium', 'Peru', 'Vietnam', 'Ukraine', 'Israel',\n",
       "       'Pakistan', 'Portugal', 'Argentina', 'United Arab Emirates',\n",
       "       'Denmark', 'Romania', 'Czechia', 'Saudi Arabia', 'Greece', 'Chile'],\n",
       "      dtype=object)"
      ]
     },
     "execution_count": 24,
     "metadata": {},
     "output_type": "execute_result"
    }
   ],
   "source": [
    "df.Country.unique()"
   ]
  },
  {
   "cell_type": "code",
   "execution_count": 25,
   "metadata": {},
   "outputs": [
    {
     "data": {
      "text/plain": [
       "8"
      ]
     },
     "execution_count": 25,
     "metadata": {},
     "output_type": "execute_result"
    }
   ],
   "source": [
    "df.Default_Channel_Grouping.nunique()"
   ]
  },
  {
   "cell_type": "markdown",
   "metadata": {},
   "source": [
    "We have 8 unique different advertising channels."
   ]
  },
  {
   "cell_type": "code",
   "execution_count": 26,
   "metadata": {
    "scrolled": true
   },
   "outputs": [
    {
     "data": {
      "text/plain": [
       "Direct            44\n",
       "Organic Search    32\n",
       "Referral           8\n",
       "(Other)            4\n",
       "Social             3\n",
       "Affiliates         3\n",
       "Paid Search        3\n",
       "Display            2\n",
       "Name: Default_Channel_Grouping, dtype: int64"
      ]
     },
     "execution_count": 26,
     "metadata": {},
     "output_type": "execute_result"
    }
   ],
   "source": [
    "df.Default_Channel_Grouping.value_counts()"
   ]
  },
  {
   "cell_type": "markdown",
   "metadata": {},
   "source": [
    "Direct seems to have the highest occurrence, followed by Organic Search."
   ]
  },
  {
   "cell_type": "code",
   "execution_count": 27,
   "metadata": {},
   "outputs": [],
   "source": [
    "#Removing the special character from Default_Channel_Grouping(Other)\n",
    "\n",
    "df['Default_Channel_Grouping'] = df['Default_Channel_Grouping'].apply(lambda x: x.replace(\")\",\"\").replace(\"(\",\"\").strip())"
   ]
  },
  {
   "cell_type": "code",
   "execution_count": 28,
   "metadata": {},
   "outputs": [
    {
     "data": {
      "text/plain": [
       "Direct            44\n",
       "Organic Search    32\n",
       "Referral           8\n",
       "Other              4\n",
       "Social             3\n",
       "Affiliates         3\n",
       "Paid Search        3\n",
       "Display            2\n",
       "Name: Default_Channel_Grouping, dtype: int64"
      ]
     },
     "execution_count": 28,
     "metadata": {},
     "output_type": "execute_result"
    }
   ],
   "source": [
    "df.Default_Channel_Grouping.value_counts()"
   ]
  },
  {
   "cell_type": "code",
   "execution_count": 29,
   "metadata": {},
   "outputs": [
    {
     "data": {
      "text/html": [
       "<div>\n",
       "<style scoped>\n",
       "    .dataframe tbody tr th:only-of-type {\n",
       "        vertical-align: middle;\n",
       "    }\n",
       "\n",
       "    .dataframe tbody tr th {\n",
       "        vertical-align: top;\n",
       "    }\n",
       "\n",
       "    .dataframe thead th {\n",
       "        text-align: right;\n",
       "    }\n",
       "</style>\n",
       "<table border=\"1\" class=\"dataframe\">\n",
       "  <thead>\n",
       "    <tr style=\"text-align: right;\">\n",
       "      <th></th>\n",
       "      <th>Default_Channel_Grouping</th>\n",
       "      <th>Country</th>\n",
       "      <th>Users</th>\n",
       "      <th>New_Users</th>\n",
       "      <th>Sessions</th>\n",
       "      <th>Bounce_Rate</th>\n",
       "      <th>Pages_Session</th>\n",
       "      <th>Avg_Session_Duration</th>\n",
       "      <th>Ecommerce_Conversion_Rate</th>\n",
       "      <th>Transactions</th>\n",
       "      <th>Revenue</th>\n",
       "      <th>Minutes</th>\n",
       "      <th>Seconds</th>\n",
       "    </tr>\n",
       "  </thead>\n",
       "  <tbody>\n",
       "    <tr>\n",
       "      <th>0</th>\n",
       "      <td>Direct</td>\n",
       "      <td>United States</td>\n",
       "      <td>137753</td>\n",
       "      <td>137192</td>\n",
       "      <td>192085</td>\n",
       "      <td>35.44</td>\n",
       "      <td>6.66</td>\n",
       "      <td>00:04:00</td>\n",
       "      <td>1.57</td>\n",
       "      <td>3008</td>\n",
       "      <td>196785.08</td>\n",
       "      <td>4</td>\n",
       "      <td>0</td>\n",
       "    </tr>\n",
       "    <tr>\n",
       "      <th>1</th>\n",
       "      <td>Organic Search</td>\n",
       "      <td>United States</td>\n",
       "      <td>56016</td>\n",
       "      <td>51214</td>\n",
       "      <td>78293</td>\n",
       "      <td>36.47</td>\n",
       "      <td>5.76</td>\n",
       "      <td>00:03:29</td>\n",
       "      <td>0.50</td>\n",
       "      <td>392</td>\n",
       "      <td>21183.66</td>\n",
       "      <td>3</td>\n",
       "      <td>29</td>\n",
       "    </tr>\n",
       "    <tr>\n",
       "      <th>2</th>\n",
       "      <td>Direct</td>\n",
       "      <td>India</td>\n",
       "      <td>29323</td>\n",
       "      <td>28830</td>\n",
       "      <td>33119</td>\n",
       "      <td>55.50</td>\n",
       "      <td>3.30</td>\n",
       "      <td>00:01:47</td>\n",
       "      <td>0.01</td>\n",
       "      <td>3</td>\n",
       "      <td>430.40</td>\n",
       "      <td>1</td>\n",
       "      <td>47</td>\n",
       "    </tr>\n",
       "    <tr>\n",
       "      <th>3</th>\n",
       "      <td>Referral</td>\n",
       "      <td>United States</td>\n",
       "      <td>22026</td>\n",
       "      <td>17894</td>\n",
       "      <td>47873</td>\n",
       "      <td>21.73</td>\n",
       "      <td>9.19</td>\n",
       "      <td>00:05:56</td>\n",
       "      <td>0.13</td>\n",
       "      <td>61</td>\n",
       "      <td>3008.95</td>\n",
       "      <td>5</td>\n",
       "      <td>56</td>\n",
       "    </tr>\n",
       "    <tr>\n",
       "      <th>4</th>\n",
       "      <td>Display</td>\n",
       "      <td>United States</td>\n",
       "      <td>17963</td>\n",
       "      <td>17342</td>\n",
       "      <td>22339</td>\n",
       "      <td>75.95</td>\n",
       "      <td>2.80</td>\n",
       "      <td>00:00:55</td>\n",
       "      <td>0.01</td>\n",
       "      <td>2</td>\n",
       "      <td>234.68</td>\n",
       "      <td>0</td>\n",
       "      <td>55</td>\n",
       "    </tr>\n",
       "  </tbody>\n",
       "</table>\n",
       "</div>"
      ],
      "text/plain": [
       "  Default_Channel_Grouping        Country   Users  New_Users  Sessions  \\\n",
       "0                   Direct  United States  137753     137192    192085   \n",
       "1           Organic Search  United States   56016      51214     78293   \n",
       "2                   Direct          India   29323      28830     33119   \n",
       "3                 Referral  United States   22026      17894     47873   \n",
       "4                  Display  United States   17963      17342     22339   \n",
       "\n",
       "   Bounce_Rate  Pages_Session Avg_Session_Duration  Ecommerce_Conversion_Rate  \\\n",
       "0        35.44           6.66             00:04:00                       1.57   \n",
       "1        36.47           5.76             00:03:29                       0.50   \n",
       "2        55.50           3.30             00:01:47                       0.01   \n",
       "3        21.73           9.19             00:05:56                       0.13   \n",
       "4        75.95           2.80             00:00:55                       0.01   \n",
       "\n",
       "   Transactions    Revenue  Minutes  Seconds  \n",
       "0          3008  196785.08        4        0  \n",
       "1           392   21183.66        3       29  \n",
       "2             3     430.40        1       47  \n",
       "3            61    3008.95        5       56  \n",
       "4             2     234.68        0       55  "
      ]
     },
     "execution_count": 29,
     "metadata": {},
     "output_type": "execute_result"
    }
   ],
   "source": [
    "df.head()"
   ]
  },
  {
   "cell_type": "code",
   "execution_count": 30,
   "metadata": {},
   "outputs": [
    {
     "name": "stdout",
     "output_type": "stream",
     "text": [
      "total duplicate rows: 0\n"
     ]
    }
   ],
   "source": [
    "# find total duplicate entries and drop them if any\n",
    "\n",
    "print(f'total duplicate rows: {df.duplicated().sum()}')"
   ]
  },
  {
   "cell_type": "code",
   "execution_count": 31,
   "metadata": {},
   "outputs": [],
   "source": [
    "# saveing the cleaned df to csv\n",
    "\n",
    "df.to_csv('df_cleaned.csv', index=False)"
   ]
  },
  {
   "cell_type": "code",
   "execution_count": null,
   "metadata": {},
   "outputs": [],
   "source": []
  },
  {
   "cell_type": "code",
   "execution_count": 32,
   "metadata": {},
   "outputs": [],
   "source": [
    "# let's import the cleaned version of the updated df\n",
    "\n",
    "df = pd.read_csv(\"df_cleaned.csv\")"
   ]
  },
  {
   "cell_type": "code",
   "execution_count": 33,
   "metadata": {
    "scrolled": true
   },
   "outputs": [
    {
     "data": {
      "text/plain": [
       "United States           8\n",
       "India                   7\n",
       "Canada                  6\n",
       "Taiwan                  4\n",
       "United Kingdom          4\n",
       "South Korea             3\n",
       "Spain                   3\n",
       "Japan                   3\n",
       "Indonesia               3\n",
       "Argentina               2\n",
       "Brazil                  2\n",
       "Italy                   2\n",
       "Poland                  2\n",
       "Colombia                2\n",
       "Peru                    2\n",
       "France                  2\n",
       "Malaysia                2\n",
       "Russia                  2\n",
       "Australia               2\n",
       "Mexico                  2\n",
       "Sweden                  2\n",
       "Singapore               2\n",
       "China                   2\n",
       "Netherlands             2\n",
       "Ireland                 2\n",
       "Switzerland             2\n",
       "Philippines             2\n",
       "Hong Kong               2\n",
       "Germany                 2\n",
       "Belgium                 2\n",
       "Turkey                  2\n",
       "Denmark                 2\n",
       "Saudi Arabia            1\n",
       "Czechia                 1\n",
       "Romania                 1\n",
       "Vietnam                 1\n",
       "Thailand                1\n",
       "United Arab Emirates    1\n",
       "Portugal                1\n",
       "Israel                  1\n",
       "Greece                  1\n",
       "Pakistan                1\n",
       "Chile                   1\n",
       "Ukraine                 1\n",
       "Name: Country, dtype: int64"
      ]
     },
     "execution_count": 33,
     "metadata": {},
     "output_type": "execute_result"
    }
   ],
   "source": [
    "Country = df['Country'].value_counts()\n",
    "Country"
   ]
  },
  {
   "cell_type": "code",
   "execution_count": 34,
   "metadata": {},
   "outputs": [
    {
     "data": {
      "text/plain": [
       "44"
      ]
     },
     "execution_count": 34,
     "metadata": {},
     "output_type": "execute_result"
    }
   ],
   "source": [
    "# There are 44 unique countries\n",
    "\n",
    "df.Country.nunique()"
   ]
  },
  {
   "cell_type": "code",
   "execution_count": 35,
   "metadata": {},
   "outputs": [],
   "source": [
    "#Putting the categorical columns together\n",
    "\n",
    "df_cat = df.loc[:, 'Default_Channel_Grouping':'Country']"
   ]
  },
  {
   "cell_type": "code",
   "execution_count": 36,
   "metadata": {},
   "outputs": [
    {
     "data": {
      "text/html": [
       "<div>\n",
       "<style scoped>\n",
       "    .dataframe tbody tr th:only-of-type {\n",
       "        vertical-align: middle;\n",
       "    }\n",
       "\n",
       "    .dataframe tbody tr th {\n",
       "        vertical-align: top;\n",
       "    }\n",
       "\n",
       "    .dataframe thead th {\n",
       "        text-align: right;\n",
       "    }\n",
       "</style>\n",
       "<table border=\"1\" class=\"dataframe\">\n",
       "  <thead>\n",
       "    <tr style=\"text-align: right;\">\n",
       "      <th></th>\n",
       "      <th>Default_Channel_Grouping</th>\n",
       "      <th>Country</th>\n",
       "    </tr>\n",
       "  </thead>\n",
       "  <tbody>\n",
       "    <tr>\n",
       "      <th>0</th>\n",
       "      <td>Direct</td>\n",
       "      <td>United States</td>\n",
       "    </tr>\n",
       "    <tr>\n",
       "      <th>1</th>\n",
       "      <td>Organic Search</td>\n",
       "      <td>United States</td>\n",
       "    </tr>\n",
       "    <tr>\n",
       "      <th>2</th>\n",
       "      <td>Direct</td>\n",
       "      <td>India</td>\n",
       "    </tr>\n",
       "    <tr>\n",
       "      <th>3</th>\n",
       "      <td>Referral</td>\n",
       "      <td>United States</td>\n",
       "    </tr>\n",
       "    <tr>\n",
       "      <th>4</th>\n",
       "      <td>Display</td>\n",
       "      <td>United States</td>\n",
       "    </tr>\n",
       "  </tbody>\n",
       "</table>\n",
       "</div>"
      ],
      "text/plain": [
       "  Default_Channel_Grouping        Country\n",
       "0                   Direct  United States\n",
       "1           Organic Search  United States\n",
       "2                   Direct          India\n",
       "3                 Referral  United States\n",
       "4                  Display  United States"
      ]
     },
     "execution_count": 36,
     "metadata": {},
     "output_type": "execute_result"
    }
   ],
   "source": [
    "df_cat.head()"
   ]
  },
  {
   "cell_type": "code",
   "execution_count": 37,
   "metadata": {},
   "outputs": [
    {
     "name": "stderr",
     "output_type": "stream",
     "text": [
      "C:\\Users\\JA\\anaconda3\\lib\\site-packages\\seaborn\\_decorators.py:43: FutureWarning: Pass the following variable as a keyword arg: x. From version 0.12, the only valid positional argument will be `data`, and passing other arguments without an explicit keyword will result in an error or misinterpretation.\n",
      "  FutureWarning\n"
     ]
    },
    {
     "data": {
      "image/png": "[encoded data removed]",
      "text/plain": [
       "<Figure size 720x576 with 1 Axes>"
      ]
     },
     "metadata": {
      "needs_background": "light"
     },
     "output_type": "display_data"
    }
   ],
   "source": [
    "#Plotting the country values\n",
    "\n",
    "plt.figure(figsize=(10,8))\n",
    "sns.countplot(df_cat['Country'], order=df_cat['Country'].value_counts().index)\n",
    "plt.xticks(rotation=90)\n",
    "plt.show()"
   ]
  },
  {
   "cell_type": "code",
   "execution_count": 38,
   "metadata": {},
   "outputs": [
    {
     "name": "stderr",
     "output_type": "stream",
     "text": [
      "C:\\Users\\JA\\anaconda3\\lib\\site-packages\\seaborn\\_decorators.py:43: FutureWarning: Pass the following variable as a keyword arg: x. From version 0.12, the only valid positional argument will be `data`, and passing other arguments without an explicit keyword will result in an error or misinterpretation.\n",
      "  FutureWarning\n"
     ]
    },
    {
     "data": {
      "image/png": "[encoded data removed]",
      "text/plain": [
       "<Figure size 576x432 with 1 Axes>"
      ]
     },
     "metadata": {
      "needs_background": "light"
     },
     "output_type": "display_data"
    }
   ],
   "source": [
    "#Plotting the Default_Channel_Grouping values\n",
    "\n",
    "fig = plt.figure(1, (8,6))\n",
    "\n",
    "ax1 = plt.subplot(1,1,1)\n",
    "sns.countplot(df_cat['Default_Channel_Grouping'], order=df_cat['Default_Channel_Grouping'].value_counts().index)\n",
    "ax1.set_xticklabels(ax1.get_xticklabels(), rotation=75)\n",
    "\n",
    "plt.show()"
   ]
  },
  {
   "cell_type": "code",
   "execution_count": 39,
   "metadata": {},
   "outputs": [],
   "source": [
    "#df_num = df.loc[:, 'Users':'Revenue'].drop('Avg_Session_Duration', axis=1)"
   ]
  },
  {
   "cell_type": "code",
   "execution_count": 40,
   "metadata": {},
   "outputs": [],
   "source": [
    "#df_num.head()"
   ]
  },
  {
   "cell_type": "code",
   "execution_count": 41,
   "metadata": {},
   "outputs": [],
   "source": [
    "cat=['Default_Channel_Grouping', 'Country']"
   ]
  },
  {
   "cell_type": "code",
   "execution_count": 42,
   "metadata": {},
   "outputs": [
    {
     "name": "stderr",
     "output_type": "stream",
     "text": [
      "C:\\Users\\JA\\anaconda3\\lib\\site-packages\\seaborn\\_decorators.py:43: FutureWarning: Pass the following variable as a keyword arg: x. From version 0.12, the only valid positional argument will be `data`, and passing other arguments without an explicit keyword will result in an error or misinterpretation.\n",
      "  FutureWarning\n",
      "C:\\Users\\JA\\anaconda3\\lib\\site-packages\\seaborn\\_decorators.py:43: FutureWarning: Pass the following variable as a keyword arg: x. From version 0.12, the only valid positional argument will be `data`, and passing other arguments without an explicit keyword will result in an error or misinterpretation.\n",
      "  FutureWarning\n"
     ]
    },
    {
     "data": {
      "image/png": "[encoded data removed]",
      "text/plain": [
       "<Figure size 1080x576 with 2 Axes>"
      ]
     },
     "metadata": {
      "needs_background": "light"
     },
     "output_type": "display_data"
    }
   ],
   "source": [
    "#Alternative ploting of the categorical columns\n",
    "\n",
    "plt.figure(figsize=(15,8))\n",
    "for i in enumerate(cat):\n",
    "    plt.subplot(1,2, i[0]+1)\n",
    "    sns.countplot(i[1], data=df)\n",
    "    plt.xticks(rotation=90)"
   ]
  },
  {
   "cell_type": "code",
   "execution_count": 43,
   "metadata": {},
   "outputs": [],
   "source": [
    "#Assigning all the numerial to a variable\n",
    "\n",
    "num = ['Users', 'New_Users', 'Sessions','Bounce_Rate', 'Pages_Session','Ecommerce_Conversion_Rate', 'Transactions', 'Revenue']"
   ]
  },
  {
   "cell_type": "code",
   "execution_count": 44,
   "metadata": {},
   "outputs": [
    {
     "data": {
      "image/png": "[encoded data removed]",
      "text/plain": [
       "<Figure size 864x864 with 12 Axes>"
      ]
     },
     "metadata": {
      "needs_background": "light"
     },
     "output_type": "display_data"
    }
   ],
   "source": [
    "# The data distribution of the numerical values.\n",
    "\n",
    "df.hist(figsize=(12,12))\n",
    "plt.show()"
   ]
  },
  {
   "cell_type": "code",
   "execution_count": 45,
   "metadata": {},
   "outputs": [
    {
     "data": {
      "text/plain": [
       "Index(['Default_Channel_Grouping', 'Country', 'Users', 'New_Users', 'Sessions',\n",
       "       'Bounce_Rate', 'Pages_Session', 'Avg_Session_Duration',\n",
       "       'Ecommerce_Conversion_Rate', 'Transactions', 'Revenue', 'Minutes',\n",
       "       'Seconds'],\n",
       "      dtype='object')"
      ]
     },
     "execution_count": 45,
     "metadata": {},
     "output_type": "execute_result"
    }
   ],
   "source": [
    "df.columns"
   ]
  },
  {
   "cell_type": "code",
   "execution_count": 46,
   "metadata": {},
   "outputs": [
    {
     "data": {
      "image/png": "[encoded data removed]",
      "text/plain": [
       "<Figure size 576x432 with 1 Axes>"
      ]
     },
     "metadata": {
      "needs_background": "light"
     },
     "output_type": "display_data"
    }
   ],
   "source": [
    "plt.figure(figsize=(8,6))\n",
    "sns.barplot(data=df, x='Default_Channel_Grouping', y='Ecommerce_Conversion_Rate', ci=None)\n",
    "plt.title('Advertising Channels vs Conversion Rate ', fontsize=(15))\n",
    "plt.xticks(rotation=90)\n",
    "plt.show()"
   ]
  },
  {
   "cell_type": "code",
   "execution_count": 47,
   "metadata": {
    "scrolled": true
   },
   "outputs": [
    {
     "data": {
      "text/html": [
       "<div>\n",
       "<style scoped>\n",
       "    .dataframe tbody tr th:only-of-type {\n",
       "        vertical-align: middle;\n",
       "    }\n",
       "\n",
       "    .dataframe tbody tr th {\n",
       "        vertical-align: top;\n",
       "    }\n",
       "\n",
       "    .dataframe thead th {\n",
       "        text-align: right;\n",
       "    }\n",
       "</style>\n",
       "<table border=\"1\" class=\"dataframe\">\n",
       "  <thead>\n",
       "    <tr style=\"text-align: right;\">\n",
       "      <th></th>\n",
       "      <th>Transactions</th>\n",
       "    </tr>\n",
       "    <tr>\n",
       "      <th>Default_Channel_Grouping</th>\n",
       "      <th></th>\n",
       "    </tr>\n",
       "  </thead>\n",
       "  <tbody>\n",
       "    <tr>\n",
       "      <th>Direct</th>\n",
       "      <td>3126</td>\n",
       "    </tr>\n",
       "    <tr>\n",
       "      <th>Organic Search</th>\n",
       "      <td>420</td>\n",
       "    </tr>\n",
       "    <tr>\n",
       "      <th>Other</th>\n",
       "      <td>226</td>\n",
       "    </tr>\n",
       "    <tr>\n",
       "      <th>Paid Search</th>\n",
       "      <td>172</td>\n",
       "    </tr>\n",
       "    <tr>\n",
       "      <th>Referral</th>\n",
       "      <td>62</td>\n",
       "    </tr>\n",
       "    <tr>\n",
       "      <th>Social</th>\n",
       "      <td>4</td>\n",
       "    </tr>\n",
       "    <tr>\n",
       "      <th>Affiliates</th>\n",
       "      <td>3</td>\n",
       "    </tr>\n",
       "    <tr>\n",
       "      <th>Display</th>\n",
       "      <td>2</td>\n",
       "    </tr>\n",
       "  </tbody>\n",
       "</table>\n",
       "</div>"
      ],
      "text/plain": [
       "                          Transactions\n",
       "Default_Channel_Grouping              \n",
       "Direct                            3126\n",
       "Organic Search                     420\n",
       "Other                              226\n",
       "Paid Search                        172\n",
       "Referral                            62\n",
       "Social                               4\n",
       "Affiliates                           3\n",
       "Display                              2"
      ]
     },
     "execution_count": 47,
     "metadata": {},
     "output_type": "execute_result"
    }
   ],
   "source": [
    "#df.groupby('Default_Channel_Grouping').sum()['Transactions'].sort_values(ascending=False)\n",
    "# OR\n",
    "\n",
    "df[['Default_Channel_Grouping', 'Transactions']].groupby('Default_Channel_Grouping').agg({'Transactions':'sum'}).sort_values('Transactions',ascending=False)"
   ]
  },
  {
   "cell_type": "markdown",
   "metadata": {},
   "source": [
    "The advertising channel that brought highest transaction is the Direct, second by Organic Search and the rest"
   ]
  },
  {
   "cell_type": "code",
   "execution_count": 48,
   "metadata": {},
   "outputs": [
    {
     "data": {
      "image/png": "[encoded data removed]",
      "text/plain": [
       "<Figure size 576x432 with 1 Axes>"
      ]
     },
     "metadata": {
      "needs_background": "light"
     },
     "output_type": "display_data"
    }
   ],
   "source": [
    "plt.figure(figsize=(8,6))\n",
    "sns.barplot(x='Default_Channel_Grouping', y='Transactions', data=df, ci=None)\n",
    "plt.title('Advertising Channels vs Transactions ', fontsize=(15))\n",
    "plt.xticks(rotation=45)\n",
    "plt.show()"
   ]
  },
  {
   "cell_type": "code",
   "execution_count": 49,
   "metadata": {},
   "outputs": [
    {
     "data": {
      "text/plain": [
       "Default_Channel_Grouping  Country       \n",
       "Direct                    United States     3008\n",
       "Organic Search            United States      392\n",
       "Other                     United States      222\n",
       "Paid Search               United States      172\n",
       "Referral                  United States       61\n",
       "Direct                    Canada              41\n",
       "                          Taiwan              23\n",
       "Organic Search            Canada              19\n",
       "Direct                    United Kingdom       8\n",
       "                          Mexico               7\n",
       "                          Australia            4\n",
       "                          Japan                4\n",
       "                          South Korea          4\n",
       "Organic Search            Mexico               4\n",
       "Social                    United States        4\n",
       "Affiliates                United States        3\n",
       "Direct                    France               3\n",
       "                          India                3\n",
       "                          Philippines          3\n",
       "                          Singapore            3\n",
       "Name: Transactions, dtype: int64"
      ]
     },
     "execution_count": 49,
     "metadata": {},
     "output_type": "execute_result"
    }
   ],
   "source": [
    "df.groupby(['Default_Channel_Grouping','Country']).sum()['Transactions'].nlargest(20)"
   ]
  },
  {
   "cell_type": "markdown",
   "metadata": {},
   "source": [
    "### Most of the transactions were from the united states through\n",
    "+ Direct\n",
    "+ Organic Search\n",
    "+ Other\n",
    "+ Paid Search\n",
    "+ Referral "
   ]
  },
  {
   "cell_type": "code",
   "execution_count": 50,
   "metadata": {
    "scrolled": true
   },
   "outputs": [
    {
     "data": {
      "text/plain": [
       "Country\n",
       "United States     247624.86\n",
       "Canada              4702.56\n",
       "Taiwan              1475.84\n",
       "Mexico               915.54\n",
       "Japan                755.25\n",
       "United Kingdom       565.74\n",
       "India                493.20\n",
       "Singapore            315.22\n",
       "South Korea          268.30\n",
       "Philippines          265.20\n",
       "Name: Revenue, dtype: float64"
      ]
     },
     "execution_count": 50,
     "metadata": {},
     "output_type": "execute_result"
    }
   ],
   "source": [
    "# First top ten countries with the highest Revenue.\n",
    "\n",
    "country_rev = df.groupby('Country').sum()['Revenue'].sort_values(ascending=False).nlargest(10)\n",
    "country_rev"
   ]
  },
  {
   "cell_type": "markdown",
   "metadata": {},
   "source": [
    "The top ten countries Revenue to the Ecommerce store.\n",
    "The highest revenue is from the United States, followed by canada and the rest."
   ]
  },
  {
   "cell_type": "code",
   "execution_count": 51,
   "metadata": {},
   "outputs": [
    {
     "data": {
      "image/png": "[encoded data removed]",
      "text/plain": [
       "<Figure size 720x576 with 1 Axes>"
      ]
     },
     "metadata": {
      "needs_background": "light"
     },
     "output_type": "display_data"
    }
   ],
   "source": [
    "plt.figure(figsize=(10,8))\n",
    "sns.barplot(x='Country', y='Revenue', data=df, ci=None)\n",
    "plt.title('Countries by Revenue ', fontsize=(15))\n",
    "plt.xticks(rotation=90)\n",
    "plt.show()"
   ]
  },
  {
   "cell_type": "code",
   "execution_count": 52,
   "metadata": {
    "scrolled": true
   },
   "outputs": [
    {
     "data": {
      "text/html": [
       "<div>\n",
       "<style scoped>\n",
       "    .dataframe tbody tr th:only-of-type {\n",
       "        vertical-align: middle;\n",
       "    }\n",
       "\n",
       "    .dataframe tbody tr th {\n",
       "        vertical-align: top;\n",
       "    }\n",
       "\n",
       "    .dataframe thead th {\n",
       "        text-align: right;\n",
       "    }\n",
       "</style>\n",
       "<table border=\"1\" class=\"dataframe\">\n",
       "  <thead>\n",
       "    <tr style=\"text-align: right;\">\n",
       "      <th></th>\n",
       "      <th>Country</th>\n",
       "      <th>Default_Channel_Grouping</th>\n",
       "      <th>Users</th>\n",
       "    </tr>\n",
       "  </thead>\n",
       "  <tbody>\n",
       "    <tr>\n",
       "      <th>0</th>\n",
       "      <td>United States</td>\n",
       "      <td>Direct</td>\n",
       "      <td>137753</td>\n",
       "    </tr>\n",
       "    <tr>\n",
       "      <th>1</th>\n",
       "      <td>United States</td>\n",
       "      <td>Organic Search</td>\n",
       "      <td>56016</td>\n",
       "    </tr>\n",
       "    <tr>\n",
       "      <th>2</th>\n",
       "      <td>India</td>\n",
       "      <td>Direct</td>\n",
       "      <td>29323</td>\n",
       "    </tr>\n",
       "    <tr>\n",
       "      <th>3</th>\n",
       "      <td>United States</td>\n",
       "      <td>Referral</td>\n",
       "      <td>22026</td>\n",
       "    </tr>\n",
       "    <tr>\n",
       "      <th>4</th>\n",
       "      <td>United States</td>\n",
       "      <td>Display</td>\n",
       "      <td>17963</td>\n",
       "    </tr>\n",
       "    <tr>\n",
       "      <th>5</th>\n",
       "      <td>India</td>\n",
       "      <td>Organic Search</td>\n",
       "      <td>17691</td>\n",
       "    </tr>\n",
       "    <tr>\n",
       "      <th>6</th>\n",
       "      <td>Canada</td>\n",
       "      <td>Direct</td>\n",
       "      <td>14665</td>\n",
       "    </tr>\n",
       "    <tr>\n",
       "      <th>7</th>\n",
       "      <td>United Kingdom</td>\n",
       "      <td>Direct</td>\n",
       "      <td>12225</td>\n",
       "    </tr>\n",
       "    <tr>\n",
       "      <th>8</th>\n",
       "      <td>United States</td>\n",
       "      <td>Paid Search</td>\n",
       "      <td>12147</td>\n",
       "    </tr>\n",
       "    <tr>\n",
       "      <th>9</th>\n",
       "      <td>United Kingdom</td>\n",
       "      <td>Organic Search</td>\n",
       "      <td>10750</td>\n",
       "    </tr>\n",
       "    <tr>\n",
       "      <th>10</th>\n",
       "      <td>United States</td>\n",
       "      <td>Other</td>\n",
       "      <td>10461</td>\n",
       "    </tr>\n",
       "    <tr>\n",
       "      <th>11</th>\n",
       "      <td>France</td>\n",
       "      <td>Direct</td>\n",
       "      <td>7007</td>\n",
       "    </tr>\n",
       "    <tr>\n",
       "      <th>12</th>\n",
       "      <td>Canada</td>\n",
       "      <td>Organic Search</td>\n",
       "      <td>6933</td>\n",
       "    </tr>\n",
       "    <tr>\n",
       "      <th>13</th>\n",
       "      <td>Spain</td>\n",
       "      <td>Direct</td>\n",
       "      <td>6622</td>\n",
       "    </tr>\n",
       "    <tr>\n",
       "      <th>14</th>\n",
       "      <td>Japan</td>\n",
       "      <td>Direct</td>\n",
       "      <td>6298</td>\n",
       "    </tr>\n",
       "    <tr>\n",
       "      <th>15</th>\n",
       "      <td>Germany</td>\n",
       "      <td>Direct</td>\n",
       "      <td>6262</td>\n",
       "    </tr>\n",
       "    <tr>\n",
       "      <th>16</th>\n",
       "      <td>Taiwan</td>\n",
       "      <td>Direct</td>\n",
       "      <td>6238</td>\n",
       "    </tr>\n",
       "    <tr>\n",
       "      <th>17</th>\n",
       "      <td>South Korea</td>\n",
       "      <td>Direct</td>\n",
       "      <td>5941</td>\n",
       "    </tr>\n",
       "    <tr>\n",
       "      <th>18</th>\n",
       "      <td>Germany</td>\n",
       "      <td>Organic Search</td>\n",
       "      <td>5370</td>\n",
       "    </tr>\n",
       "    <tr>\n",
       "      <th>19</th>\n",
       "      <td>Canada</td>\n",
       "      <td>Paid Search</td>\n",
       "      <td>5022</td>\n",
       "    </tr>\n",
       "    <tr>\n",
       "      <th>20</th>\n",
       "      <td>Singapore</td>\n",
       "      <td>Direct</td>\n",
       "      <td>4991</td>\n",
       "    </tr>\n",
       "    <tr>\n",
       "      <th>21</th>\n",
       "      <td>Italy</td>\n",
       "      <td>Direct</td>\n",
       "      <td>4550</td>\n",
       "    </tr>\n",
       "    <tr>\n",
       "      <th>22</th>\n",
       "      <td>France</td>\n",
       "      <td>Organic Search</td>\n",
       "      <td>4481</td>\n",
       "    </tr>\n",
       "    <tr>\n",
       "      <th>23</th>\n",
       "      <td>Brazil</td>\n",
       "      <td>Direct</td>\n",
       "      <td>4368</td>\n",
       "    </tr>\n",
       "    <tr>\n",
       "      <th>24</th>\n",
       "      <td>Australia</td>\n",
       "      <td>Organic Search</td>\n",
       "      <td>4009</td>\n",
       "    </tr>\n",
       "    <tr>\n",
       "      <th>25</th>\n",
       "      <td>Spain</td>\n",
       "      <td>Organic Search</td>\n",
       "      <td>3919</td>\n",
       "    </tr>\n",
       "    <tr>\n",
       "      <th>26</th>\n",
       "      <td>Australia</td>\n",
       "      <td>Direct</td>\n",
       "      <td>3855</td>\n",
       "    </tr>\n",
       "    <tr>\n",
       "      <th>27</th>\n",
       "      <td>Netherlands</td>\n",
       "      <td>Direct</td>\n",
       "      <td>3752</td>\n",
       "    </tr>\n",
       "    <tr>\n",
       "      <th>28</th>\n",
       "      <td>Canada</td>\n",
       "      <td>Display</td>\n",
       "      <td>3730</td>\n",
       "    </tr>\n",
       "    <tr>\n",
       "      <th>29</th>\n",
       "      <td>Japan</td>\n",
       "      <td>Organic Search</td>\n",
       "      <td>3647</td>\n",
       "    </tr>\n",
       "    <tr>\n",
       "      <th>30</th>\n",
       "      <td>Italy</td>\n",
       "      <td>Organic Search</td>\n",
       "      <td>3477</td>\n",
       "    </tr>\n",
       "    <tr>\n",
       "      <th>31</th>\n",
       "      <td>United States</td>\n",
       "      <td>Social</td>\n",
       "      <td>3283</td>\n",
       "    </tr>\n",
       "    <tr>\n",
       "      <th>32</th>\n",
       "      <td>China</td>\n",
       "      <td>Direct</td>\n",
       "      <td>3187</td>\n",
       "    </tr>\n",
       "    <tr>\n",
       "      <th>33</th>\n",
       "      <td>Poland</td>\n",
       "      <td>Direct</td>\n",
       "      <td>3173</td>\n",
       "    </tr>\n",
       "    <tr>\n",
       "      <th>34</th>\n",
       "      <td>Mexico</td>\n",
       "      <td>Direct</td>\n",
       "      <td>3028</td>\n",
       "    </tr>\n",
       "    <tr>\n",
       "      <th>35</th>\n",
       "      <td>Taiwan</td>\n",
       "      <td>Organic Search</td>\n",
       "      <td>2988</td>\n",
       "    </tr>\n",
       "    <tr>\n",
       "      <th>36</th>\n",
       "      <td>Netherlands</td>\n",
       "      <td>Organic Search</td>\n",
       "      <td>2893</td>\n",
       "    </tr>\n",
       "    <tr>\n",
       "      <th>37</th>\n",
       "      <td>Singapore</td>\n",
       "      <td>Organic Search</td>\n",
       "      <td>2662</td>\n",
       "    </tr>\n",
       "    <tr>\n",
       "      <th>38</th>\n",
       "      <td>Russia</td>\n",
       "      <td>Direct</td>\n",
       "      <td>2633</td>\n",
       "    </tr>\n",
       "    <tr>\n",
       "      <th>39</th>\n",
       "      <td>Indonesia</td>\n",
       "      <td>Direct</td>\n",
       "      <td>2611</td>\n",
       "    </tr>\n",
       "    <tr>\n",
       "      <th>40</th>\n",
       "      <td>Turkey</td>\n",
       "      <td>Direct</td>\n",
       "      <td>2590</td>\n",
       "    </tr>\n",
       "    <tr>\n",
       "      <th>41</th>\n",
       "      <td>Hong Kong</td>\n",
       "      <td>Direct</td>\n",
       "      <td>2566</td>\n",
       "    </tr>\n",
       "    <tr>\n",
       "      <th>42</th>\n",
       "      <td>India</td>\n",
       "      <td>Other</td>\n",
       "      <td>2560</td>\n",
       "    </tr>\n",
       "    <tr>\n",
       "      <th>43</th>\n",
       "      <td>China</td>\n",
       "      <td>Organic Search</td>\n",
       "      <td>2536</td>\n",
       "    </tr>\n",
       "    <tr>\n",
       "      <th>44</th>\n",
       "      <td>Brazil</td>\n",
       "      <td>Organic Search</td>\n",
       "      <td>2395</td>\n",
       "    </tr>\n",
       "    <tr>\n",
       "      <th>45</th>\n",
       "      <td>United States</td>\n",
       "      <td>Affiliates</td>\n",
       "      <td>2296</td>\n",
       "    </tr>\n",
       "    <tr>\n",
       "      <th>46</th>\n",
       "      <td>South Korea</td>\n",
       "      <td>Organic Search</td>\n",
       "      <td>2200</td>\n",
       "    </tr>\n",
       "    <tr>\n",
       "      <th>47</th>\n",
       "      <td>Ireland</td>\n",
       "      <td>Direct</td>\n",
       "      <td>2187</td>\n",
       "    </tr>\n",
       "    <tr>\n",
       "      <th>48</th>\n",
       "      <td>Colombia</td>\n",
       "      <td>Direct</td>\n",
       "      <td>2145</td>\n",
       "    </tr>\n",
       "    <tr>\n",
       "      <th>49</th>\n",
       "      <td>India</td>\n",
       "      <td>Social</td>\n",
       "      <td>2131</td>\n",
       "    </tr>\n",
       "  </tbody>\n",
       "</table>\n",
       "</div>"
      ],
      "text/plain": [
       "           Country Default_Channel_Grouping   Users\n",
       "0    United States                   Direct  137753\n",
       "1    United States           Organic Search   56016\n",
       "2            India                   Direct   29323\n",
       "3    United States                 Referral   22026\n",
       "4    United States                  Display   17963\n",
       "5            India           Organic Search   17691\n",
       "6           Canada                   Direct   14665\n",
       "7   United Kingdom                   Direct   12225\n",
       "8    United States              Paid Search   12147\n",
       "9   United Kingdom           Organic Search   10750\n",
       "10   United States                    Other   10461\n",
       "11          France                   Direct    7007\n",
       "12          Canada           Organic Search    6933\n",
       "13           Spain                   Direct    6622\n",
       "14           Japan                   Direct    6298\n",
       "15         Germany                   Direct    6262\n",
       "16          Taiwan                   Direct    6238\n",
       "17     South Korea                   Direct    5941\n",
       "18         Germany           Organic Search    5370\n",
       "19          Canada              Paid Search    5022\n",
       "20       Singapore                   Direct    4991\n",
       "21           Italy                   Direct    4550\n",
       "22          France           Organic Search    4481\n",
       "23          Brazil                   Direct    4368\n",
       "24       Australia           Organic Search    4009\n",
       "25           Spain           Organic Search    3919\n",
       "26       Australia                   Direct    3855\n",
       "27     Netherlands                   Direct    3752\n",
       "28          Canada                  Display    3730\n",
       "29           Japan           Organic Search    3647\n",
       "30           Italy           Organic Search    3477\n",
       "31   United States                   Social    3283\n",
       "32           China                   Direct    3187\n",
       "33          Poland                   Direct    3173\n",
       "34          Mexico                   Direct    3028\n",
       "35          Taiwan           Organic Search    2988\n",
       "36     Netherlands           Organic Search    2893\n",
       "37       Singapore           Organic Search    2662\n",
       "38          Russia                   Direct    2633\n",
       "39       Indonesia                   Direct    2611\n",
       "40          Turkey                   Direct    2590\n",
       "41       Hong Kong                   Direct    2566\n",
       "42           India                    Other    2560\n",
       "43           China           Organic Search    2536\n",
       "44          Brazil           Organic Search    2395\n",
       "45   United States               Affiliates    2296\n",
       "46     South Korea           Organic Search    2200\n",
       "47         Ireland                   Direct    2187\n",
       "48        Colombia                   Direct    2145\n",
       "49           India                   Social    2131"
      ]
     },
     "execution_count": 52,
     "metadata": {},
     "output_type": "execute_result"
    }
   ],
   "source": [
    "mm = df.groupby(['Country','Default_Channel_Grouping']).sum()['Users'].sort_values(ascending=False)\n",
    "mm.reset_index().head(50)"
   ]
  },
  {
   "cell_type": "code",
   "execution_count": 53,
   "metadata": {},
   "outputs": [],
   "source": [
    "f = {'Sessions':'mean',\n",
    "     'Bounce_Rate':'mean',\n",
    "     'Pages_Session':['mean','sum']}"
   ]
  },
  {
   "cell_type": "code",
   "execution_count": 54,
   "metadata": {},
   "outputs": [
    {
     "data": {
      "text/html": [
       "<div>\n",
       "<style scoped>\n",
       "    .dataframe tbody tr th:only-of-type {\n",
       "        vertical-align: middle;\n",
       "    }\n",
       "\n",
       "    .dataframe tbody tr th {\n",
       "        vertical-align: top;\n",
       "    }\n",
       "\n",
       "    .dataframe thead tr th {\n",
       "        text-align: left;\n",
       "    }\n",
       "\n",
       "    .dataframe thead tr:last-of-type th {\n",
       "        text-align: right;\n",
       "    }\n",
       "</style>\n",
       "<table border=\"1\" class=\"dataframe\">\n",
       "  <thead>\n",
       "    <tr>\n",
       "      <th></th>\n",
       "      <th>Sessions</th>\n",
       "      <th>Bounce_Rate</th>\n",
       "      <th colspan=\"2\" halign=\"left\">Pages_Session</th>\n",
       "    </tr>\n",
       "    <tr>\n",
       "      <th></th>\n",
       "      <th>mean</th>\n",
       "      <th>mean</th>\n",
       "      <th>mean</th>\n",
       "      <th>sum</th>\n",
       "    </tr>\n",
       "    <tr>\n",
       "      <th>Default_Channel_Grouping</th>\n",
       "      <th></th>\n",
       "      <th></th>\n",
       "      <th></th>\n",
       "      <th></th>\n",
       "    </tr>\n",
       "  </thead>\n",
       "  <tbody>\n",
       "    <tr>\n",
       "      <th>Affiliates</th>\n",
       "      <td>2115.666667</td>\n",
       "      <td>62.170000</td>\n",
       "      <td>2.350000</td>\n",
       "      <td>7.05</td>\n",
       "    </tr>\n",
       "    <tr>\n",
       "      <th>Direct</th>\n",
       "      <td>9017.022727</td>\n",
       "      <td>55.186818</td>\n",
       "      <td>3.467727</td>\n",
       "      <td>152.58</td>\n",
       "    </tr>\n",
       "    <tr>\n",
       "      <th>Display</th>\n",
       "      <td>13713.000000</td>\n",
       "      <td>73.280000</td>\n",
       "      <td>3.390000</td>\n",
       "      <td>6.78</td>\n",
       "    </tr>\n",
       "    <tr>\n",
       "      <th>Organic Search</th>\n",
       "      <td>6209.031250</td>\n",
       "      <td>59.208750</td>\n",
       "      <td>3.119063</td>\n",
       "      <td>99.81</td>\n",
       "    </tr>\n",
       "    <tr>\n",
       "      <th>Other</th>\n",
       "      <td>5830.500000</td>\n",
       "      <td>33.847500</td>\n",
       "      <td>5.105000</td>\n",
       "      <td>20.42</td>\n",
       "    </tr>\n",
       "    <tr>\n",
       "      <th>Paid Search</th>\n",
       "      <td>7807.333333</td>\n",
       "      <td>70.656667</td>\n",
       "      <td>2.850000</td>\n",
       "      <td>8.55</td>\n",
       "    </tr>\n",
       "    <tr>\n",
       "      <th>Referral</th>\n",
       "      <td>7806.250000</td>\n",
       "      <td>43.336250</td>\n",
       "      <td>4.652500</td>\n",
       "      <td>37.22</td>\n",
       "    </tr>\n",
       "    <tr>\n",
       "      <th>Social</th>\n",
       "      <td>2282.000000</td>\n",
       "      <td>55.680000</td>\n",
       "      <td>4.126667</td>\n",
       "      <td>12.38</td>\n",
       "    </tr>\n",
       "  </tbody>\n",
       "</table>\n",
       "</div>"
      ],
      "text/plain": [
       "                              Sessions Bounce_Rate Pages_Session        \n",
       "                                  mean        mean          mean     sum\n",
       "Default_Channel_Grouping                                                \n",
       "Affiliates                 2115.666667   62.170000      2.350000    7.05\n",
       "Direct                     9017.022727   55.186818      3.467727  152.58\n",
       "Display                   13713.000000   73.280000      3.390000    6.78\n",
       "Organic Search             6209.031250   59.208750      3.119063   99.81\n",
       "Other                      5830.500000   33.847500      5.105000   20.42\n",
       "Paid Search                7807.333333   70.656667      2.850000    8.55\n",
       "Referral                   7806.250000   43.336250      4.652500   37.22\n",
       "Social                     2282.000000   55.680000      4.126667   12.38"
      ]
     },
     "execution_count": 54,
     "metadata": {},
     "output_type": "execute_result"
    }
   ],
   "source": [
    "df.groupby('Default_Channel_Grouping').agg(f)"
   ]
  },
  {
   "cell_type": "code",
   "execution_count": 55,
   "metadata": {},
   "outputs": [
    {
     "data": {
      "text/html": [
       "<div>\n",
       "<style scoped>\n",
       "    .dataframe tbody tr th:only-of-type {\n",
       "        vertical-align: middle;\n",
       "    }\n",
       "\n",
       "    .dataframe tbody tr th {\n",
       "        vertical-align: top;\n",
       "    }\n",
       "\n",
       "    .dataframe thead th {\n",
       "        text-align: right;\n",
       "    }\n",
       "</style>\n",
       "<table border=\"1\" class=\"dataframe\">\n",
       "  <thead>\n",
       "    <tr style=\"text-align: right;\">\n",
       "      <th></th>\n",
       "      <th>Default_Channel_Grouping</th>\n",
       "      <th>Country</th>\n",
       "      <th>Users</th>\n",
       "      <th>New_Users</th>\n",
       "      <th>Sessions</th>\n",
       "      <th>Bounce_Rate</th>\n",
       "      <th>Pages_Session</th>\n",
       "      <th>Avg_Session_Duration</th>\n",
       "      <th>Ecommerce_Conversion_Rate</th>\n",
       "      <th>Transactions</th>\n",
       "      <th>Revenue</th>\n",
       "      <th>Minutes</th>\n",
       "      <th>Seconds</th>\n",
       "    </tr>\n",
       "  </thead>\n",
       "  <tbody>\n",
       "    <tr>\n",
       "      <th>0</th>\n",
       "      <td>Direct</td>\n",
       "      <td>United States</td>\n",
       "      <td>137753</td>\n",
       "      <td>137192</td>\n",
       "      <td>192085</td>\n",
       "      <td>35.44</td>\n",
       "      <td>6.66</td>\n",
       "      <td>00:04:00</td>\n",
       "      <td>1.57</td>\n",
       "      <td>3008</td>\n",
       "      <td>196785.08</td>\n",
       "      <td>4</td>\n",
       "      <td>0</td>\n",
       "    </tr>\n",
       "    <tr>\n",
       "      <th>1</th>\n",
       "      <td>Organic Search</td>\n",
       "      <td>United States</td>\n",
       "      <td>56016</td>\n",
       "      <td>51214</td>\n",
       "      <td>78293</td>\n",
       "      <td>36.47</td>\n",
       "      <td>5.76</td>\n",
       "      <td>00:03:29</td>\n",
       "      <td>0.50</td>\n",
       "      <td>392</td>\n",
       "      <td>21183.66</td>\n",
       "      <td>3</td>\n",
       "      <td>29</td>\n",
       "    </tr>\n",
       "    <tr>\n",
       "      <th>3</th>\n",
       "      <td>Referral</td>\n",
       "      <td>United States</td>\n",
       "      <td>22026</td>\n",
       "      <td>17894</td>\n",
       "      <td>47873</td>\n",
       "      <td>21.73</td>\n",
       "      <td>9.19</td>\n",
       "      <td>00:05:56</td>\n",
       "      <td>0.13</td>\n",
       "      <td>61</td>\n",
       "      <td>3008.95</td>\n",
       "      <td>5</td>\n",
       "      <td>56</td>\n",
       "    </tr>\n",
       "    <tr>\n",
       "      <th>4</th>\n",
       "      <td>Display</td>\n",
       "      <td>United States</td>\n",
       "      <td>17963</td>\n",
       "      <td>17342</td>\n",
       "      <td>22339</td>\n",
       "      <td>75.95</td>\n",
       "      <td>2.80</td>\n",
       "      <td>00:00:55</td>\n",
       "      <td>0.01</td>\n",
       "      <td>2</td>\n",
       "      <td>234.68</td>\n",
       "      <td>0</td>\n",
       "      <td>55</td>\n",
       "    </tr>\n",
       "    <tr>\n",
       "      <th>8</th>\n",
       "      <td>Paid Search</td>\n",
       "      <td>United States</td>\n",
       "      <td>12147</td>\n",
       "      <td>10580</td>\n",
       "      <td>17181</td>\n",
       "      <td>46.51</td>\n",
       "      <td>5.43</td>\n",
       "      <td>00:03:09</td>\n",
       "      <td>1.00</td>\n",
       "      <td>172</td>\n",
       "      <td>10505.14</td>\n",
       "      <td>3</td>\n",
       "      <td>9</td>\n",
       "    </tr>\n",
       "    <tr>\n",
       "      <th>10</th>\n",
       "      <td>Other</td>\n",
       "      <td>United States</td>\n",
       "      <td>10461</td>\n",
       "      <td>8133</td>\n",
       "      <td>17754</td>\n",
       "      <td>26.24</td>\n",
       "      <td>7.26</td>\n",
       "      <td>00:04:57</td>\n",
       "      <td>1.25</td>\n",
       "      <td>222</td>\n",
       "      <td>15386.73</td>\n",
       "      <td>4</td>\n",
       "      <td>57</td>\n",
       "    </tr>\n",
       "    <tr>\n",
       "      <th>31</th>\n",
       "      <td>Social</td>\n",
       "      <td>United States</td>\n",
       "      <td>3283</td>\n",
       "      <td>3106</td>\n",
       "      <td>3647</td>\n",
       "      <td>50.23</td>\n",
       "      <td>4.32</td>\n",
       "      <td>00:02:09</td>\n",
       "      <td>0.11</td>\n",
       "      <td>4</td>\n",
       "      <td>259.90</td>\n",
       "      <td>2</td>\n",
       "      <td>9</td>\n",
       "    </tr>\n",
       "    <tr>\n",
       "      <th>45</th>\n",
       "      <td>Affiliates</td>\n",
       "      <td>United States</td>\n",
       "      <td>2296</td>\n",
       "      <td>2030</td>\n",
       "      <td>2853</td>\n",
       "      <td>61.72</td>\n",
       "      <td>2.65</td>\n",
       "      <td>00:02:09</td>\n",
       "      <td>0.11</td>\n",
       "      <td>3</td>\n",
       "      <td>260.72</td>\n",
       "      <td>2</td>\n",
       "      <td>9</td>\n",
       "    </tr>\n",
       "  </tbody>\n",
       "</table>\n",
       "</div>"
      ],
      "text/plain": [
       "   Default_Channel_Grouping        Country   Users  New_Users  Sessions  \\\n",
       "0                    Direct  United States  137753     137192    192085   \n",
       "1            Organic Search  United States   56016      51214     78293   \n",
       "3                  Referral  United States   22026      17894     47873   \n",
       "4                   Display  United States   17963      17342     22339   \n",
       "8               Paid Search  United States   12147      10580     17181   \n",
       "10                    Other  United States   10461       8133     17754   \n",
       "31                   Social  United States    3283       3106      3647   \n",
       "45               Affiliates  United States    2296       2030      2853   \n",
       "\n",
       "    Bounce_Rate  Pages_Session Avg_Session_Duration  \\\n",
       "0         35.44           6.66             00:04:00   \n",
       "1         36.47           5.76             00:03:29   \n",
       "3         21.73           9.19             00:05:56   \n",
       "4         75.95           2.80             00:00:55   \n",
       "8         46.51           5.43             00:03:09   \n",
       "10        26.24           7.26             00:04:57   \n",
       "31        50.23           4.32             00:02:09   \n",
       "45        61.72           2.65             00:02:09   \n",
       "\n",
       "    Ecommerce_Conversion_Rate  Transactions    Revenue  Minutes  Seconds  \n",
       "0                        1.57          3008  196785.08        4        0  \n",
       "1                        0.50           392   21183.66        3       29  \n",
       "3                        0.13            61    3008.95        5       56  \n",
       "4                        0.01             2     234.68        0       55  \n",
       "8                        1.00           172   10505.14        3        9  \n",
       "10                       1.25           222   15386.73        4       57  \n",
       "31                       0.11             4     259.90        2        9  \n",
       "45                       0.11             3     260.72        2        9  "
      ]
     },
     "execution_count": 55,
     "metadata": {},
     "output_type": "execute_result"
    }
   ],
   "source": [
    "usa = df[df['Country']=='United States']\n",
    "usa"
   ]
  },
  {
   "cell_type": "code",
   "execution_count": 56,
   "metadata": {},
   "outputs": [
    {
     "data": {
      "text/plain": [
       "3864"
      ]
     },
     "execution_count": 56,
     "metadata": {},
     "output_type": "execute_result"
    }
   ],
   "source": [
    "usa['Transactions'].sum()"
   ]
  },
  {
   "cell_type": "markdown",
   "metadata": {},
   "source": [
    "#### United States alone made 3864 Transactions"
   ]
  },
  {
   "cell_type": "code",
   "execution_count": 57,
   "metadata": {},
   "outputs": [
    {
     "data": {
      "text/plain": [
       "Default_Channel_Grouping\n",
       "Direct            196785.08\n",
       "Organic Search     21183.66\n",
       "Other              15386.73\n",
       "Paid Search        10505.14\n",
       "Referral            3008.95\n",
       "Affiliates           260.72\n",
       "Social               259.90\n",
       "Display              234.68\n",
       "Name: Revenue, dtype: float64"
      ]
     },
     "execution_count": 57,
     "metadata": {},
     "output_type": "execute_result"
    }
   ],
   "source": [
    "usa.groupby('Default_Channel_Grouping').sum()['Revenue'].sort_values(ascending=False)"
   ]
  },
  {
   "cell_type": "markdown",
   "metadata": {},
   "source": [
    "### USA Revenue Channels\n",
    "+ Majority of the revenue comes from Direct traffic to the site"
   ]
  },
  {
   "cell_type": "code",
   "execution_count": 58,
   "metadata": {},
   "outputs": [
    {
     "data": {
      "image/png": "[encoded data removed]",
      "text/plain": [
       "<Figure size 504x432 with 1 Axes>"
      ]
     },
     "metadata": {
      "needs_background": "light"
     },
     "output_type": "display_data"
    }
   ],
   "source": [
    "plt.figure(figsize=(7,6))\n",
    "sns.barplot(data=usa, x='Default_Channel_Grouping', y='Revenue', ci=None)\n",
    "plt.title('Ecommerce Revenue Channels USA ', fontsize=(15))\n",
    "plt.xticks(rotation=45)\n",
    "plt.show()"
   ]
  },
  {
   "cell_type": "code",
   "execution_count": 59,
   "metadata": {
    "scrolled": false
   },
   "outputs": [
    {
     "data": {
      "text/plain": [
       "Default_Channel_Grouping\n",
       "Direct            137192\n",
       "Organic Search     51214\n",
       "Referral           17894\n",
       "Display            17342\n",
       "Paid Search        10580\n",
       "Other               8133\n",
       "Social              3106\n",
       "Affiliates          2030\n",
       "Name: New_Users, dtype: int64"
      ]
     },
     "execution_count": 59,
     "metadata": {},
     "output_type": "execute_result"
    }
   ],
   "source": [
    "# usa verses new_user\n",
    "usa.groupby('Default_Channel_Grouping').sum()['New_Users'].sort_values(ascending=False)"
   ]
  },
  {
   "cell_type": "markdown",
   "metadata": {},
   "source": [
    "### New_Users\n",
    "+ Majority of new users to the site are from USA comes from Direct"
   ]
  },
  {
   "cell_type": "code",
   "execution_count": 60,
   "metadata": {},
   "outputs": [
    {
     "data": {
      "image/png": "[encoded data removed]",
      "text/plain": [
       "<Figure size 504x432 with 1 Axes>"
      ]
     },
     "metadata": {
      "needs_background": "light"
     },
     "output_type": "display_data"
    }
   ],
   "source": [
    "plt.figure(figsize=(7,6))\n",
    "sns.barplot(data=usa, x='Default_Channel_Grouping', y='New_Users', ci=None)\n",
    "plt.xticks(rotation=45)\n",
    "plt.show()"
   ]
  },
  {
   "cell_type": "code",
   "execution_count": 61,
   "metadata": {
    "scrolled": true
   },
   "outputs": [
    {
     "data": {
      "text/html": [
       "<div>\n",
       "<style scoped>\n",
       "    .dataframe tbody tr th:only-of-type {\n",
       "        vertical-align: middle;\n",
       "    }\n",
       "\n",
       "    .dataframe tbody tr th {\n",
       "        vertical-align: top;\n",
       "    }\n",
       "\n",
       "    .dataframe thead th {\n",
       "        text-align: right;\n",
       "    }\n",
       "</style>\n",
       "<table border=\"1\" class=\"dataframe\">\n",
       "  <thead>\n",
       "    <tr style=\"text-align: right;\">\n",
       "      <th></th>\n",
       "      <th>Default_Channel_Grouping</th>\n",
       "      <th>Bounce_Rate</th>\n",
       "    </tr>\n",
       "  </thead>\n",
       "  <tbody>\n",
       "    <tr>\n",
       "      <th>0</th>\n",
       "      <td>Display</td>\n",
       "      <td>75.95</td>\n",
       "    </tr>\n",
       "    <tr>\n",
       "      <th>1</th>\n",
       "      <td>Affiliates</td>\n",
       "      <td>61.72</td>\n",
       "    </tr>\n",
       "    <tr>\n",
       "      <th>2</th>\n",
       "      <td>Social</td>\n",
       "      <td>50.23</td>\n",
       "    </tr>\n",
       "    <tr>\n",
       "      <th>3</th>\n",
       "      <td>Paid Search</td>\n",
       "      <td>46.51</td>\n",
       "    </tr>\n",
       "    <tr>\n",
       "      <th>4</th>\n",
       "      <td>Organic Search</td>\n",
       "      <td>36.47</td>\n",
       "    </tr>\n",
       "    <tr>\n",
       "      <th>5</th>\n",
       "      <td>Direct</td>\n",
       "      <td>35.44</td>\n",
       "    </tr>\n",
       "    <tr>\n",
       "      <th>6</th>\n",
       "      <td>Other</td>\n",
       "      <td>26.24</td>\n",
       "    </tr>\n",
       "    <tr>\n",
       "      <th>7</th>\n",
       "      <td>Referral</td>\n",
       "      <td>21.73</td>\n",
       "    </tr>\n",
       "  </tbody>\n",
       "</table>\n",
       "</div>"
      ],
      "text/plain": [
       "  Default_Channel_Grouping  Bounce_Rate\n",
       "0                  Display        75.95\n",
       "1               Affiliates        61.72\n",
       "2                   Social        50.23\n",
       "3              Paid Search        46.51\n",
       "4           Organic Search        36.47\n",
       "5                   Direct        35.44\n",
       "6                    Other        26.24\n",
       "7                 Referral        21.73"
      ]
     },
     "execution_count": 61,
     "metadata": {},
     "output_type": "execute_result"
    }
   ],
   "source": [
    "bounce_rate = usa.groupby('Default_Channel_Grouping').mean()['Bounce_Rate'].sort_values(ascending=False)\n",
    "bounce_rate.reset_index()"
   ]
  },
  {
   "cell_type": "markdown",
   "metadata": {},
   "source": [
    "### Channels VS Bounce_Rate\n",
    "+ Display has got the highest average bounce rate(people leaving the site too quickly), then followe by Affilates and social"
   ]
  },
  {
   "cell_type": "code",
   "execution_count": 62,
   "metadata": {
    "scrolled": true
   },
   "outputs": [
    {
     "data": {
      "image/png": "[encoded data removed]",
      "text/plain": [
       "<Figure size 504x432 with 1 Axes>"
      ]
     },
     "metadata": {
      "needs_background": "light"
     },
     "output_type": "display_data"
    }
   ],
   "source": [
    "plt.figure(figsize=(7,6))\n",
    "sns.barplot(data=usa, x='Default_Channel_Grouping', y='Bounce_Rate', estimator=np.mean, ci=None)\n",
    "plt.title('Avertising Channels vs Bounce Rate USA', fontsize=(15))\n",
    "plt.xticks(rotation=90)\n",
    "plt.show()"
   ]
  },
  {
   "cell_type": "code",
   "execution_count": 63,
   "metadata": {},
   "outputs": [
    {
     "data": {
      "image/png": "[encoded data removed]",
      "text/plain": [
       "<Figure size 504x432 with 1 Axes>"
      ]
     },
     "metadata": {
      "needs_background": "light"
     },
     "output_type": "display_data"
    }
   ],
   "source": [
    "plt.figure(figsize=(7,6))\n",
    "sns.barplot(data=usa, x='Default_Channel_Grouping', y='Minutes',  estimator=np.mean, ci=None)\n",
    "plt.xticks(rotation=45)\n",
    "plt.show()"
   ]
  },
  {
   "cell_type": "code",
   "execution_count": 64,
   "metadata": {
    "scrolled": true
   },
   "outputs": [
    {
     "data": {
      "image/png": "[encoded data removed]",
      "text/plain": [
       "<Figure size 504x432 with 1 Axes>"
      ]
     },
     "metadata": {
      "needs_background": "light"
     },
     "output_type": "display_data"
    }
   ],
   "source": [
    "plt.figure(figsize=(7,6))\n",
    "sns.barplot(data=usa, x='Default_Channel_Grouping', y='Ecommerce_Conversion_Rate', ci=None)\n",
    "plt.title(' Conversion Rate by Avertising Channels USA', fontsize=(12))\n",
    "plt.xticks(rotation=45)\n",
    "plt.show()"
   ]
  },
  {
   "cell_type": "markdown",
   "metadata": {},
   "source": [
    "### Conversion_Rate by Channels\n",
    "+ The best conversion rate comes from Direct, then from Others and Paid Search"
   ]
  },
  {
   "cell_type": "code",
   "execution_count": 65,
   "metadata": {},
   "outputs": [
    {
     "data": {
      "text/html": [
       "<div>\n",
       "<style scoped>\n",
       "    .dataframe tbody tr th:only-of-type {\n",
       "        vertical-align: middle;\n",
       "    }\n",
       "\n",
       "    .dataframe tbody tr th {\n",
       "        vertical-align: top;\n",
       "    }\n",
       "\n",
       "    .dataframe thead th {\n",
       "        text-align: right;\n",
       "    }\n",
       "</style>\n",
       "<table border=\"1\" class=\"dataframe\">\n",
       "  <thead>\n",
       "    <tr style=\"text-align: right;\">\n",
       "      <th></th>\n",
       "      <th>Default_Channel_Grouping</th>\n",
       "      <th>Country</th>\n",
       "      <th>Users</th>\n",
       "      <th>New_Users</th>\n",
       "      <th>Sessions</th>\n",
       "      <th>Bounce_Rate</th>\n",
       "      <th>Pages_Session</th>\n",
       "      <th>Avg_Session_Duration</th>\n",
       "      <th>Ecommerce_Conversion_Rate</th>\n",
       "      <th>Transactions</th>\n",
       "      <th>Revenue</th>\n",
       "      <th>Minutes</th>\n",
       "      <th>Seconds</th>\n",
       "    </tr>\n",
       "  </thead>\n",
       "  <tbody>\n",
       "    <tr>\n",
       "      <th>6</th>\n",
       "      <td>Direct</td>\n",
       "      <td>Canada</td>\n",
       "      <td>14665</td>\n",
       "      <td>14653</td>\n",
       "      <td>19361</td>\n",
       "      <td>45.91</td>\n",
       "      <td>4.46</td>\n",
       "      <td>00:03:11</td>\n",
       "      <td>0.21</td>\n",
       "      <td>41</td>\n",
       "      <td>3274.86</td>\n",
       "      <td>3</td>\n",
       "      <td>11</td>\n",
       "    </tr>\n",
       "    <tr>\n",
       "      <th>12</th>\n",
       "      <td>Organic Search</td>\n",
       "      <td>Canada</td>\n",
       "      <td>6933</td>\n",
       "      <td>6376</td>\n",
       "      <td>9487</td>\n",
       "      <td>39.51</td>\n",
       "      <td>4.84</td>\n",
       "      <td>00:03:13</td>\n",
       "      <td>0.20</td>\n",
       "      <td>19</td>\n",
       "      <td>1191.30</td>\n",
       "      <td>3</td>\n",
       "      <td>13</td>\n",
       "    </tr>\n",
       "    <tr>\n",
       "      <th>19</th>\n",
       "      <td>Paid Search</td>\n",
       "      <td>Canada</td>\n",
       "      <td>5022</td>\n",
       "      <td>4959</td>\n",
       "      <td>5356</td>\n",
       "      <td>84.56</td>\n",
       "      <td>1.55</td>\n",
       "      <td>00:00:22</td>\n",
       "      <td>0.00</td>\n",
       "      <td>0</td>\n",
       "      <td>0.00</td>\n",
       "      <td>0</td>\n",
       "      <td>22</td>\n",
       "    </tr>\n",
       "    <tr>\n",
       "      <th>28</th>\n",
       "      <td>Display</td>\n",
       "      <td>Canada</td>\n",
       "      <td>3730</td>\n",
       "      <td>3653</td>\n",
       "      <td>5087</td>\n",
       "      <td>70.61</td>\n",
       "      <td>3.98</td>\n",
       "      <td>00:01:15</td>\n",
       "      <td>0.00</td>\n",
       "      <td>0</td>\n",
       "      <td>0.00</td>\n",
       "      <td>1</td>\n",
       "      <td>15</td>\n",
       "    </tr>\n",
       "    <tr>\n",
       "      <th>72</th>\n",
       "      <td>Referral</td>\n",
       "      <td>Canada</td>\n",
       "      <td>1371</td>\n",
       "      <td>1055</td>\n",
       "      <td>2625</td>\n",
       "      <td>31.54</td>\n",
       "      <td>8.09</td>\n",
       "      <td>00:05:43</td>\n",
       "      <td>0.00</td>\n",
       "      <td>0</td>\n",
       "      <td>0.00</td>\n",
       "      <td>5</td>\n",
       "      <td>43</td>\n",
       "    </tr>\n",
       "    <tr>\n",
       "      <th>97</th>\n",
       "      <td>Other</td>\n",
       "      <td>Canada</td>\n",
       "      <td>798</td>\n",
       "      <td>570</td>\n",
       "      <td>1189</td>\n",
       "      <td>36.33</td>\n",
       "      <td>5.34</td>\n",
       "      <td>00:04:00</td>\n",
       "      <td>0.17</td>\n",
       "      <td>2</td>\n",
       "      <td>236.40</td>\n",
       "      <td>4</td>\n",
       "      <td>0</td>\n",
       "    </tr>\n",
       "  </tbody>\n",
       "</table>\n",
       "</div>"
      ],
      "text/plain": [
       "   Default_Channel_Grouping Country  Users  New_Users  Sessions  Bounce_Rate  \\\n",
       "6                    Direct  Canada  14665      14653     19361        45.91   \n",
       "12           Organic Search  Canada   6933       6376      9487        39.51   \n",
       "19              Paid Search  Canada   5022       4959      5356        84.56   \n",
       "28                  Display  Canada   3730       3653      5087        70.61   \n",
       "72                 Referral  Canada   1371       1055      2625        31.54   \n",
       "97                    Other  Canada    798        570      1189        36.33   \n",
       "\n",
       "    Pages_Session Avg_Session_Duration  Ecommerce_Conversion_Rate  \\\n",
       "6            4.46             00:03:11                       0.21   \n",
       "12           4.84             00:03:13                       0.20   \n",
       "19           1.55             00:00:22                       0.00   \n",
       "28           3.98             00:01:15                       0.00   \n",
       "72           8.09             00:05:43                       0.00   \n",
       "97           5.34             00:04:00                       0.17   \n",
       "\n",
       "    Transactions  Revenue  Minutes  Seconds  \n",
       "6             41  3274.86        3       11  \n",
       "12            19  1191.30        3       13  \n",
       "19             0     0.00        0       22  \n",
       "28             0     0.00        1       15  \n",
       "72             0     0.00        5       43  \n",
       "97             2   236.40        4        0  "
      ]
     },
     "execution_count": 65,
     "metadata": {},
     "output_type": "execute_result"
    }
   ],
   "source": [
    "canada = df[df['Country']=='Canada']\n",
    "canada"
   ]
  },
  {
   "cell_type": "code",
   "execution_count": 66,
   "metadata": {},
   "outputs": [
    {
     "data": {
      "text/html": [
       "<div>\n",
       "<style scoped>\n",
       "    .dataframe tbody tr th:only-of-type {\n",
       "        vertical-align: middle;\n",
       "    }\n",
       "\n",
       "    .dataframe tbody tr th {\n",
       "        vertical-align: top;\n",
       "    }\n",
       "\n",
       "    .dataframe thead th {\n",
       "        text-align: right;\n",
       "    }\n",
       "</style>\n",
       "<table border=\"1\" class=\"dataframe\">\n",
       "  <thead>\n",
       "    <tr style=\"text-align: right;\">\n",
       "      <th></th>\n",
       "      <th>Default_Channel_Grouping</th>\n",
       "      <th>Revenue</th>\n",
       "    </tr>\n",
       "  </thead>\n",
       "  <tbody>\n",
       "    <tr>\n",
       "      <th>0</th>\n",
       "      <td>Direct</td>\n",
       "      <td>3274.86</td>\n",
       "    </tr>\n",
       "    <tr>\n",
       "      <th>1</th>\n",
       "      <td>Organic Search</td>\n",
       "      <td>1191.30</td>\n",
       "    </tr>\n",
       "    <tr>\n",
       "      <th>2</th>\n",
       "      <td>Other</td>\n",
       "      <td>236.40</td>\n",
       "    </tr>\n",
       "    <tr>\n",
       "      <th>3</th>\n",
       "      <td>Referral</td>\n",
       "      <td>0.00</td>\n",
       "    </tr>\n",
       "    <tr>\n",
       "      <th>4</th>\n",
       "      <td>Paid Search</td>\n",
       "      <td>0.00</td>\n",
       "    </tr>\n",
       "    <tr>\n",
       "      <th>5</th>\n",
       "      <td>Display</td>\n",
       "      <td>0.00</td>\n",
       "    </tr>\n",
       "  </tbody>\n",
       "</table>\n",
       "</div>"
      ],
      "text/plain": [
       "  Default_Channel_Grouping  Revenue\n",
       "0                   Direct  3274.86\n",
       "1           Organic Search  1191.30\n",
       "2                    Other   236.40\n",
       "3                 Referral     0.00\n",
       "4              Paid Search     0.00\n",
       "5                  Display     0.00"
      ]
     },
     "execution_count": 66,
     "metadata": {},
     "output_type": "execute_result"
    }
   ],
   "source": [
    "canada.groupby('Default_Channel_Grouping').sum()['Revenue'].sort_values(ascending=False).reset_index()"
   ]
  },
  {
   "cell_type": "code",
   "execution_count": 67,
   "metadata": {},
   "outputs": [
    {
     "data": {
      "image/png": "[encoded data removed]",
      "text/plain": [
       "<Figure size 504x288 with 1 Axes>"
      ]
     },
     "metadata": {
      "needs_background": "light"
     },
     "output_type": "display_data"
    }
   ],
   "source": [
    "plt.figure(figsize=(7,4))\n",
    "sns.barplot(data=canada, x='Default_Channel_Grouping', y='Revenue')\n",
    "plt.xticks(rotation=45)\n",
    "plt.show()"
   ]
  },
  {
   "cell_type": "code",
   "execution_count": 68,
   "metadata": {},
   "outputs": [
    {
     "data": {
      "text/plain": [
       "Default_Channel_Grouping\n",
       "Direct            3274.86\n",
       "Organic Search    1191.30\n",
       "Other              236.40\n",
       "Referral             0.00\n",
       "Paid Search          0.00\n",
       "Display              0.00\n",
       "Name: Revenue, dtype: float64"
      ]
     },
     "execution_count": 68,
     "metadata": {},
     "output_type": "execute_result"
    }
   ],
   "source": [
    "canada.groupby('Default_Channel_Grouping').sum()['Revenue'].sort_values(ascending=False)"
   ]
  },
  {
   "cell_type": "markdown",
   "metadata": {},
   "source": [
    "Majority of Revenue from canada comes from three advertising channels\n",
    "+ Direct\n",
    "+ Organic search\n",
    "+ Other"
   ]
  },
  {
   "cell_type": "code",
   "execution_count": 69,
   "metadata": {},
   "outputs": [
    {
     "data": {
      "text/plain": [
       "Index(['Default_Channel_Grouping', 'Country', 'Users', 'New_Users', 'Sessions',\n",
       "       'Bounce_Rate', 'Pages_Session', 'Avg_Session_Duration',\n",
       "       'Ecommerce_Conversion_Rate', 'Transactions', 'Revenue', 'Minutes',\n",
       "       'Seconds'],\n",
       "      dtype='object')"
      ]
     },
     "execution_count": 69,
     "metadata": {},
     "output_type": "execute_result"
    }
   ],
   "source": [
    "df.columns"
   ]
  },
  {
   "cell_type": "code",
   "execution_count": 70,
   "metadata": {},
   "outputs": [
    {
     "data": {
      "text/plain": [
       "Default_Channel_Grouping\n",
       "Direct            41\n",
       "Organic Search    19\n",
       "Other              2\n",
       "Referral           0\n",
       "Paid Search        0\n",
       "Display            0\n",
       "Name: Transactions, dtype: int64"
      ]
     },
     "execution_count": 70,
     "metadata": {},
     "output_type": "execute_result"
    }
   ],
   "source": [
    "canada.groupby('Default_Channel_Grouping').sum()['Transactions'].sort_values(ascending=False)"
   ]
  },
  {
   "cell_type": "code",
   "execution_count": 71,
   "metadata": {},
   "outputs": [
    {
     "data": {
      "text/plain": [
       "Default_Channel_Grouping\n",
       "Direct            0.21\n",
       "Organic Search    0.20\n",
       "Other             0.17\n",
       "Referral          0.00\n",
       "Paid Search       0.00\n",
       "Display           0.00\n",
       "Name: Ecommerce_Conversion_Rate, dtype: float64"
      ]
     },
     "execution_count": 71,
     "metadata": {},
     "output_type": "execute_result"
    }
   ],
   "source": [
    "canada.groupby('Default_Channel_Grouping').sum()['Ecommerce_Conversion_Rate'].sort_values(ascending=False)"
   ]
  },
  {
   "cell_type": "code",
   "execution_count": 72,
   "metadata": {},
   "outputs": [
    {
     "data": {
      "text/html": [
       "<div>\n",
       "<style scoped>\n",
       "    .dataframe tbody tr th:only-of-type {\n",
       "        vertical-align: middle;\n",
       "    }\n",
       "\n",
       "    .dataframe tbody tr th {\n",
       "        vertical-align: top;\n",
       "    }\n",
       "\n",
       "    .dataframe thead th {\n",
       "        text-align: right;\n",
       "    }\n",
       "</style>\n",
       "<table border=\"1\" class=\"dataframe\">\n",
       "  <thead>\n",
       "    <tr style=\"text-align: right;\">\n",
       "      <th></th>\n",
       "      <th>Users</th>\n",
       "      <th>New_Users</th>\n",
       "    </tr>\n",
       "    <tr>\n",
       "      <th>Default_Channel_Grouping</th>\n",
       "      <th></th>\n",
       "      <th></th>\n",
       "    </tr>\n",
       "  </thead>\n",
       "  <tbody>\n",
       "    <tr>\n",
       "      <th>Direct</th>\n",
       "      <td>14665</td>\n",
       "      <td>14653</td>\n",
       "    </tr>\n",
       "    <tr>\n",
       "      <th>Organic Search</th>\n",
       "      <td>6933</td>\n",
       "      <td>6376</td>\n",
       "    </tr>\n",
       "    <tr>\n",
       "      <th>Paid Search</th>\n",
       "      <td>5022</td>\n",
       "      <td>4959</td>\n",
       "    </tr>\n",
       "    <tr>\n",
       "      <th>Display</th>\n",
       "      <td>3730</td>\n",
       "      <td>3653</td>\n",
       "    </tr>\n",
       "    <tr>\n",
       "      <th>Referral</th>\n",
       "      <td>1371</td>\n",
       "      <td>1055</td>\n",
       "    </tr>\n",
       "    <tr>\n",
       "      <th>Other</th>\n",
       "      <td>798</td>\n",
       "      <td>570</td>\n",
       "    </tr>\n",
       "  </tbody>\n",
       "</table>\n",
       "</div>"
      ],
      "text/plain": [
       "                          Users  New_Users\n",
       "Default_Channel_Grouping                  \n",
       "Direct                    14665      14653\n",
       "Organic Search             6933       6376\n",
       "Paid Search                5022       4959\n",
       "Display                    3730       3653\n",
       "Referral                   1371       1055\n",
       "Other                       798        570"
      ]
     },
     "execution_count": 72,
     "metadata": {},
     "output_type": "execute_result"
    }
   ],
   "source": [
    "canada.groupby('Default_Channel_Grouping').mean()[['Users', 'New_Users']].sort_values('New_Users',ascending=False)"
   ]
  },
  {
   "cell_type": "code",
   "execution_count": null,
   "metadata": {},
   "outputs": [],
   "source": []
  }
 ],
 "metadata": {
  "kernelspec": {
   "display_name": "Python 3",
   "language": "python",
   "name": "python3"
  },
  "language_info": {
   "codemirror_mode": {
    "name": "ipython",
    "version": 3
   },
   "file_extension": ".py",
   "mimetype": "text/x-python",
   "name": "python",
   "nbconvert_exporter": "python",
   "pygments_lexer": "ipython3",
   "version": "3.7.6"
  }
 },
 "nbformat": 4,
 "nbformat_minor": 4
}
